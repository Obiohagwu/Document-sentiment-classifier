{
  "nbformat": 4,
  "nbformat_minor": 0,
  "metadata": {
    "colab": {
      "name": "Ex2-Document classificationipynb",
      "provenance": []
    },
    "kernelspec": {
      "name": "python3",
      "display_name": "Python 3"
    },
    "language_info": {
      "name": "python"
    },
    "accelerator": "GPU"
  },
  "cells": [
    {
      "cell_type": "code",
      "metadata": {
        "id": "XJZT3MlBRVn5"
      },
      "source": [
        "import torch\n",
        "from sklearn.preprocessing import LabelEncoder\n",
        "from sklearn.model_selection import train_test_split\n",
        "\n",
        "# for time measurement\n",
        "import time\n",
        "\n",
        "# some utilities for counting\n",
        "from collections import defaultdict, Counter\n",
        "\n",
        "# plotting\n",
        "import matplotlib.pyplot as plt\n",
        "\n",
        "# plotting cosmetics\n",
        "%config InlineBackend.figure_format = 'svg' \n",
        "plt.style.use('seaborn')"
      ],
      "execution_count": null,
      "outputs": []
    },
    {
      "cell_type": "code",
      "metadata": {
        "colab": {
          "base_uri": "https://localhost:8080/"
        },
        "id": "gK5wCV9yR4xl",
        "outputId": "8d67b530-f804-4d7e-cc00-0e8d5f91701b"
      },
      "source": [
        "torch.cuda.is_available()"
      ],
      "execution_count": null,
      "outputs": [
        {
          "output_type": "execute_result",
          "data": {
            "text/plain": [
              "True"
            ]
          },
          "metadata": {
            "tags": []
          },
          "execution_count": 2
        }
      ]
    },
    {
      "cell_type": "code",
      "metadata": {
        "id": "oyq9EpPpSPFq"
      },
      "source": [
        "def read_data(corpus_file, use_sentiment=True):\n",
        "    X = []\n",
        "    Y = []\n",
        "    with open(corpus_file, encoding='utf-8') as f:\n",
        "        for line in f:\n",
        "            product, sentiment, _, doc = line.strip().split(maxsplit=3)\n",
        "            X.append(doc)\n",
        "            Y.append(sentiment if use_sentiment else product)\n",
        "    return X, Y"
      ],
      "execution_count": null,
      "outputs": []
    },
    {
      "cell_type": "code",
      "metadata": {
        "colab": {
          "base_uri": "https://localhost:8080/"
        },
        "id": "5bS63AQ2UrDS",
        "outputId": "4f11152c-6e09-41b7-965e-72d1582bcde9"
      },
      "source": [
        "!mkdir data\n",
        "!wget http://www.cse.chalmers.se/~richajo/nlp2019/l1/l1_data.zip\n",
        "!unzip l1_data.zip\n",
        "!mv all_sentiment_shuffled.txt data"
      ],
      "execution_count": null,
      "outputs": [
        {
          "output_type": "stream",
          "text": [
            "--2021-08-10 03:35:34--  http://www.cse.chalmers.se/~richajo/nlp2019/l1/l1_data.zip\n",
            "Resolving www.cse.chalmers.se (www.cse.chalmers.se)... 129.16.221.33\n",
            "Connecting to www.cse.chalmers.se (www.cse.chalmers.se)|129.16.221.33|:80... connected.\n",
            "HTTP request sent, awaiting response... 200 OK\n",
            "Length: 3483101 (3.3M) [application/zip]\n",
            "Saving to: ‘l1_data.zip’\n",
            "\n",
            "l1_data.zip         100%[===================>]   3.32M   797KB/s    in 13s     \n",
            "\n",
            "2021-08-10 03:35:47 (272 KB/s) - ‘l1_data.zip’ saved [3483101/3483101]\n",
            "\n",
            "Archive:  l1_data.zip\n",
            "  inflating: all_sentiment_shuffled.txt  \n"
          ],
          "name": "stdout"
        }
      ]
    },
    {
      "cell_type": "code",
      "metadata": {
        "id": "i-I5pQ1iVQhS"
      },
      "source": [
        "X, Y = read_data('data/all_sentiment_shuffled.txt', use_sentiment=True)"
      ],
      "execution_count": null,
      "outputs": []
    },
    {
      "cell_type": "code",
      "metadata": {
        "colab": {
          "base_uri": "https://localhost:8080/",
          "height": 69
        },
        "id": "0eAfsD-NVtKk",
        "outputId": "a332371e-b6a8-48b0-9607-56505d09203a"
      },
      "source": [
        "X[3]"
      ],
      "execution_count": null,
      "outputs": [
        {
          "output_type": "execute_result",
          "data": {
            "application/vnd.google.colaboratory.intrinsic+json": {
              "type": "string"
            },
            "text/plain": [
              "'anything you purchase in the left behind series is an excellent read . these books are great and very close to the bible . i have the entire set . amazon is a great shopping site and they ship fast . i would recommend these to any christian wanting to know about what to expect during the return of christ ! they are fiction but still makes a good point'"
            ]
          },
          "metadata": {
            "tags": []
          },
          "execution_count": 6
        }
      ]
    },
    {
      "cell_type": "code",
      "metadata": {
        "colab": {
          "base_uri": "https://localhost:8080/",
          "height": 35
        },
        "id": "M-PIAFZXYJ_t",
        "outputId": "37479285-1c91-45a4-ee9e-8b5eb97b658b"
      },
      "source": [
        "Y[3]"
      ],
      "execution_count": null,
      "outputs": [
        {
          "output_type": "execute_result",
          "data": {
            "application/vnd.google.colaboratory.intrinsic+json": {
              "type": "string"
            },
            "text/plain": [
              "'pos'"
            ]
          },
          "metadata": {
            "tags": []
          },
          "execution_count": 7
        }
      ]
    },
    {
      "cell_type": "code",
      "metadata": {
        "id": "Lv56NMkHYQj8"
      },
      "source": [
        "PAD = '___PAD___'\n",
        "UNKNOWN = '___UNKNOWN___'\n",
        "\n",
        "\n",
        "class Vocabulary:\n",
        "  \"\"\"Manages the numerical encoding of the vocabulary\"\"\"\n",
        "  def __init__(self, tokenizer=None, max_voc_size=None):\n",
        "\n",
        "    # String-to-integer mapping\n",
        "    self.stoi = None\n",
        "\n",
        "    # Integer-to-string mapping\n",
        "    self.itos = None\n",
        "\n",
        "\n",
        "    # Tokenizer that will be used to split document strings into words.\n",
        "    if tokenizer:\n",
        "      self.tokenizer = tokenizer\n",
        "    else:\n",
        "      self.tokenizer = lambda s: s.split()\n",
        "\n",
        "    \n",
        "    # Maximally allowed vocabulary\n",
        "    self.max_voc_size = max_voc_size\n",
        "\n",
        "  def build(self, docs):\n",
        "    \"\"\"Builds the vocabulary based on a set of documents.\"\"\"\n",
        "\n",
        "    # Sort all words by frequency\n",
        "    word_freqs = Counter(w for doc in docs for w in self.tokenizer(doc))\n",
        "    word_freqs = sorted(((f, w) for w, f in word_freqs.items()), reverse=True)\n",
        "\n",
        "\n",
        "    # Build the integer-to-strings mapping. The vocabulary starts with two dummy symbols,\n",
        "    # and then all words, sorted by frequency. Optionally,limit the vocabulary size.\n",
        "    if self.max_voc_size:\n",
        "      self.itos = [PAD, UNKNOWN] + [ w for _, w in word_freqs[:self.max_voc_size-2] ]\n",
        "    else:\n",
        "      self.itos = [PAD, UNKNOWN] + [ w for _, w in word_freqs ]\n",
        "\n",
        "    # Build the string-to-integer map by just inverting the aformentioned map.\n",
        "    self.stoi = { w: i for i, w in enumerate(self.itos)}\n",
        "\n",
        "\n",
        "  def encode(self, docs):\n",
        "    \"\"\"Encodes a set of documents.\"\"\"\n",
        "    unkn_index = self.stoi[UNKNOWN]\n",
        "    return [[self.stoi.get(w, unkn_index) for w in self.tokenizer(doc)] for doc in docs]\n",
        "\n",
        "  def get_unknown_idx(self):\n",
        "    \"\"\"Returns the integer index of the special dummy word representing unknown words.\"\"\"\n",
        "    return self.stoi[UNKNOWN]\n",
        "    \n",
        "  def get_pad_idx(self):\n",
        "    \"\"\"Returns the integer index of the special padding dummy word.\"\"\"\n",
        "    return self.stoi[PAD]\n",
        "    \n",
        "  def __len__(self):\n",
        "    return len(self.itos)\n"
      ],
      "execution_count": null,
      "outputs": []
    },
    {
      "cell_type": "code",
      "metadata": {
        "id": "IOtYoG_R77V1"
      },
      "source": [
        "from torch.utils.data import Dataset, DataLoader\n",
        "\n",
        "class DocumentDataset(Dataset):\n",
        "  \"\"\"A Dataset that stores a list of documents and their corresponding category labels.\"\"\"\n",
        "  def __init__(self, X, Y):\n",
        "    self.X = X\n",
        "    self.Y = Y\n",
        "\n",
        "  def __getitem__(self, idx):\n",
        "    return self.X[idx], self.Y[idx]\n",
        "\n",
        "  def __len__(self):\n",
        "    \n",
        "    return len(self.X)\n",
        "\n",
        "\n",
        "\n",
        "class DocumentBatcher:\n",
        "  \"\"\"A collator that builds a batch from a number of documents\"\"\"\n",
        "\n",
        "  def __init__(self, voc):\n",
        "    # Find the integer index of the dummy padding word.\n",
        "\n",
        "    self.pad = voc.get_pad_idx()\n",
        "  \n",
        "\n",
        "  def __call__(self, XY):\n",
        "    \"\"\"Builds a batch from a number of documents. Returns two tensors X and Y, where\n",
        "    X is the document tensor, of shape [n_docs, max_doc_length]\n",
        "\n",
        "    and\n",
        "    \n",
        "    Y is the label tensor, of shape [n_docs].\n",
        "    \"\"\"\n",
        "\n",
        "    # How long is the longest document in this batch?\n",
        "    max_len = max(len(x) for x, _ in XY)\n",
        "\n",
        "\n",
        "    # Build the document tensor. We pad the shorter documents so that all documents \n",
        "    # have the same length.\n",
        "    Xpadded = torch.as_tensor([x + [self.pad]*(max_len-len(x)) for x, _ in XY])\n",
        "\n",
        "\n",
        "    # Build the label tensor.\n",
        "    Y = torch.as_tensor([y for _, y in XY])\n",
        "\n",
        "    return Xpadded, Y\n"
      ],
      "execution_count": null,
      "outputs": []
    },
    {
      "cell_type": "code",
      "metadata": {
        "id": "sXKv_h54A2Cn"
      },
      "source": [
        "from torch import nn\n",
        "\n",
        "class BagOfWordsEncoder(nn.Module):\n",
        "  \"\"\"A neural network module that represents documents using baag-of-words approach.\"\"\"\n",
        "\n",
        "  def __init__(self, voc_size):\n",
        "    super().__init__()\n",
        "    self.voc_size = voc_size\n",
        "\n",
        "  def forward(self, X):\n",
        "    # X is a document tensor with shape (n_docs, n_words)\n",
        "    n_docs, n_words = X.shape\n",
        "\n",
        "    # Build one-hot vectors for all the words.\n",
        "    onehot = torch.zeros(size=(n_docs, n_words, self.voc_size), device=X.device)\n",
        "    onehot.scatter_(2, X.view(n_docs, n_words, 1), 1)\n",
        "\n",
        "    # Sum the one-hot vectors to get the frequencies for all the words.\n",
        "    bow = onehot.sum(dim=1)\n",
        "\n",
        "    # Don't count the paddind dummy word.\n",
        "    bow[:,0] = 0\n",
        "\n",
        "    # Normalize the word frequencies by the lenght of the documents.\n",
        "    lengths = torch.sum(bow, dim=1)\n",
        "    return (bow.t() / lengths).t()"
      ],
      "execution_count": null,
      "outputs": []
    },
    {
      "cell_type": "code",
      "metadata": {
        "id": "D2_VqB90FQxd"
      },
      "source": [
        "class TextClassifier:\n",
        "    \"\"\"A text classifier based on a neural network.\"\"\"\n",
        "    \n",
        "    def __init__(self, params):\n",
        "        self.params = params\n",
        "        \n",
        "    def epoch(self, batches, optimizer=None):\n",
        "        \"\"\"Runs the neural network for one epoch, using the given batches.\n",
        "        If an optimizer is provided, this is training data and we will update the model\n",
        "        after each batch. Otherwise, this is assumed to be validation data.\n",
        "        \n",
        "        Returns the loss and accuracy over the epoch.\"\"\"\n",
        "        n_correct = 0\n",
        "        n_instances = 0\n",
        "        total_loss = 0\n",
        "        \n",
        "        for Xbatch, Ybatch in batches:\n",
        "            \n",
        "            # If we're using the GPU, move the batch there.\n",
        "            Xbatch = Xbatch.to(self.params.device)\n",
        "            Ybatch = Ybatch.to(self.params.device)\n",
        "\n",
        "\n",
        "            # Compute the predictions for this batch.\n",
        "            scores = self.model(Xbatch)\n",
        "\n",
        "            # Compute the loss for this batch.\n",
        "            loss = self.loss(scores, Ybatch)\n",
        "\n",
        "            total_loss += loss.item()\n",
        "            n_instances += Ybatch.shape[0]\n",
        "\n",
        "            # Compute the number of correct predictions, for the accuracy.\n",
        "            guesses = scores.argmax(dim=1)\n",
        "            n_correct += (guesses == Ybatch).sum().item()\n",
        "\n",
        "            # If this is training data, update the model.\n",
        "            if optimizer:\n",
        "                optimizer.zero_grad()                \n",
        "                loss.backward()\n",
        "                optimizer.step()\n",
        "           \n",
        "        return total_loss/len(batches), n_correct/n_instances\n",
        "    \n",
        "    def preprocess(self, X, Y):\n",
        "        \"\"\"Carry out the document preprocessing, then build `DataLoader`s for the training and validation sets.\"\"\"\n",
        "        Xtrain, Xval, Ytrain, Yval = train_test_split(X, Y, test_size=0.2, random_state=0)\n",
        "        \n",
        "        self.voc = Vocabulary(max_voc_size=self.params.max_voc_size)\n",
        "        self.voc.build(Xtrain)\n",
        "        self.lbl_enc = LabelEncoder()\n",
        "        self.lbl_enc.fit(Ytrain)\n",
        "\n",
        "        self.voc_size = len(self.voc)\n",
        "        self.n_classes = len(self.lbl_enc.classes_)\n",
        "        \n",
        "        batcher = DocumentBatcher(self.voc)\n",
        "        \n",
        "        train_dataset = DocumentDataset(self.voc.encode(Xtrain), self.lbl_enc.transform(Ytrain))\n",
        "        self.train_loader = DataLoader(train_dataset, self.params.batch_size, shuffle=True,\n",
        "                                  collate_fn=batcher)\n",
        "        val_dataset = DocumentDataset(self.voc.encode(Xval), self.lbl_enc.transform(Yval))\n",
        "        self.val_loader = DataLoader(val_dataset, self.params.batch_size, shuffle=True,\n",
        "                                collate_fn=batcher)\n",
        "    \n",
        "    def set_model(self, model):\n",
        "        \"\"\"Provide a neural network model for this document classifier.\"\"\"\n",
        "        self.model = model\n",
        "    \n",
        "    def train(self):\n",
        "        \"\"\"Train the model. We assume that a dataset and a model have already been provided.\"\"\"\n",
        "        par = self.params\n",
        "        \n",
        "        # If we're using a GPU, put the model there.\n",
        "        self.model.to(par.device)\n",
        "    \n",
        "        # Declare a loss function, in this case the cross-entropy.\n",
        "        self.loss = torch.nn.CrossEntropyLoss()\n",
        "\n",
        "        # An optimizer for updating the neural network. We use the Adam optimizer.\n",
        "        optimizer = torch.optim.Adam(self.model.parameters(), lr=par.eta, weight_decay=par.decay)\n",
        "\n",
        "        # We'll log the loss and accuracy scores encountered during training.\n",
        "        self.history = defaultdict(list)\n",
        "        \n",
        "        for epoch in range(1, par.n_epochs+1):\n",
        "\n",
        "            t0 = time.time()\n",
        "            \n",
        "            # Set the model in training mode, enabling dropout modules.\n",
        "            self.model.train()\n",
        "            \n",
        "            # Run the model on the training data.\n",
        "            train_loss, train_acc = self.epoch(self.train_loader, optimizer)\n",
        "            \n",
        "            # Set the model in evaluation mode, disabling dropout modules.\n",
        "            self.model.eval()\n",
        "\n",
        "            # Run the model on the validation data.            \n",
        "            val_loss, val_acc = self.epoch(self.val_loader)\n",
        "            \n",
        "            t1 = time.time()\n",
        "\n",
        "            self.history['train_loss'].append(train_loss)\n",
        "            self.history['train_acc'].append(train_acc)\n",
        "            self.history['val_loss'].append(val_loss)\n",
        "            self.history['val_acc'].append(val_acc)\n",
        "            self.history['time'].append(t1-t0)\n",
        "            \n",
        "            if epoch % 5 == 0:\n",
        "                print(f'Epoch {epoch}: train loss:{train_loss:.4f}, train acc: {train_acc:.4f},'\n",
        "                      + f'val loss: {val_loss:.4f}, val acc: {val_acc:.4f}, time: {t1-t0:.4f}')        \n",
        "        \n",
        "    def predict(self, X):\n",
        "        \"\"\"Run a trained document classifier on a set of documents and return the predictions.\"\"\"\n",
        "        batcher = DocumentBatcher(self.voc)\n",
        "        \n",
        "        # Build a DataLoader to generate the batches, as above.\n",
        "        dummy_labels = [self.lbl_enc.classes_[0] for x in X]        \n",
        "        dataset = DocumentDataset(self.voc.encode(X), self.lbl_enc.transform(dummy_labels))\n",
        "        loader = DataLoader(dataset, self.params.batch_size, collate_fn=batcher)\n",
        "\n",
        "        # Apply the model to all the batches and aggregate the predictions.\n",
        "        self.model.eval()\n",
        "        output = []\n",
        "        for Xbatch, Ybatch in loader:\n",
        "            Xbatch = Xbatch.to(self.params.device)\n",
        "            Ybatch = Ybatch.to(self.params.device)\n",
        "            scores = self.model(Xbatch)\n",
        "            guesses = scores.argmax(dim=1)\n",
        "            output.extend(self.lbl_enc.inverse_transform(guesses.cpu().numpy()))\n",
        "        return output"
      ],
      "execution_count": null,
      "outputs": []
    },
    {
      "cell_type": "code",
      "metadata": {
        "colab": {
          "base_uri": "https://localhost:8080/",
          "height": 1000
        },
        "id": "5TigVfHrFyyn",
        "outputId": "603715b7-9c69-4566-d9fb-79492089349e"
      },
      "source": [
        "class TextClassifierParameters:\n",
        "    \"\"\"Container class to store the hyperparameters that control the training process.\"\"\"\n",
        "\n",
        "    # Computation device: 'cuda' or 'cpu'\n",
        "    device = 'cuda'\n",
        "\n",
        "    # Maximal vocabulary size: by increasing, the system will probably be slower but more accurate.\n",
        "    max_voc_size = 1000\n",
        "\n",
        "    # Number of training epochs.\n",
        "    n_epochs = 100\n",
        "\n",
        "    # Size of batches: how many documents to process in parallel.\n",
        "    batch_size = 64\n",
        "\n",
        "    # Learning rate in the Adam optimizer.\n",
        "    eta = 2e-2\n",
        "\n",
        "    # Weight decay (L2 regularization) in the Adam optimizer.\n",
        "    decay = 1e-6\n",
        "    \n",
        "    # Dropout probability.\n",
        "    dropout = 0.2\n",
        "   \n",
        "def main_bow():\n",
        "    global clf\n",
        "    \n",
        "    # Set a random seed for reproducibility.\n",
        "    torch.manual_seed(0)\n",
        "    \n",
        "    # Read the data.\n",
        "    X, Y = read_data('data/all_sentiment_shuffled.txt', use_sentiment=True)\n",
        "    \n",
        "    # Initialize the text classifier\n",
        "    params = TextClassifierParameters()    \n",
        "    clf = TextClassifier(params)\n",
        "    \n",
        "    # Preprocess the data.\n",
        "    clf.preprocess(X, Y)\n",
        "\n",
        "    # Create a classification model: a bag-of-words representation with a linear classifier on top,\n",
        "    # and dropout to reduce overfitting.\n",
        "    clf.set_model(nn.Sequential(\n",
        "            BagOfWordsEncoder(clf.voc_size),\n",
        "            nn.Dropout(params.dropout),\n",
        "            nn.Linear(in_features=clf.voc_size, out_features=clf.n_classes)            \n",
        "    ))\n",
        "    \n",
        "    # Train the classifier.\n",
        "    clf.train()\n",
        "\n",
        "    # Plot losses and accuracies for the training and validation sets.\n",
        "    plt.figure()\n",
        "    plt.plot(clf.history['train_loss'])\n",
        "    plt.plot(clf.history['val_loss'])\n",
        "\n",
        "    plt.figure()\n",
        "    plt.plot(clf.history['train_acc'])\n",
        "    plt.plot(clf.history['val_acc'])\n",
        "    \n",
        "main_bow()"
      ],
      "execution_count": null,
      "outputs": [
        {
          "output_type": "stream",
          "text": [
            "Epoch 5: train loss:0.5268, train acc: 0.7844,val loss: 0.5357, val acc: 0.7856, time: 1.2032\n",
            "Epoch 10: train loss:0.4741, train acc: 0.8014,val loss: 0.4916, val acc: 0.7948, time: 1.1838\n",
            "Epoch 15: train loss:0.4507, train acc: 0.8108,val loss: 0.4720, val acc: 0.8011, time: 1.1671\n",
            "Epoch 20: train loss:0.4373, train acc: 0.8196,val loss: 0.4665, val acc: 0.8086, time: 1.1639\n",
            "Epoch 25: train loss:0.4315, train acc: 0.8137,val loss: 0.4580, val acc: 0.8074, time: 1.1808\n",
            "Epoch 30: train loss:0.4282, train acc: 0.8154,val loss: 0.4534, val acc: 0.8074, time: 1.1565\n",
            "Epoch 35: train loss:0.4247, train acc: 0.8199,val loss: 0.4523, val acc: 0.8154, time: 1.1816\n",
            "Epoch 40: train loss:0.4229, train acc: 0.8155,val loss: 0.4492, val acc: 0.8141, time: 1.1768\n",
            "Epoch 45: train loss:0.4219, train acc: 0.8211,val loss: 0.4501, val acc: 0.8120, time: 1.2202\n",
            "Epoch 50: train loss:0.4193, train acc: 0.8247,val loss: 0.4502, val acc: 0.8179, time: 1.2214\n",
            "Epoch 55: train loss:0.4203, train acc: 0.8225,val loss: 0.4484, val acc: 0.8158, time: 1.2204\n",
            "Epoch 60: train loss:0.4220, train acc: 0.8187,val loss: 0.4472, val acc: 0.8154, time: 1.2495\n",
            "Epoch 65: train loss:0.4195, train acc: 0.8238,val loss: 0.4468, val acc: 0.8120, time: 1.1925\n",
            "Epoch 70: train loss:0.4167, train acc: 0.8248,val loss: 0.4492, val acc: 0.8078, time: 1.1849\n",
            "Epoch 75: train loss:0.4205, train acc: 0.8214,val loss: 0.4561, val acc: 0.8149, time: 1.1860\n",
            "Epoch 80: train loss:0.4203, train acc: 0.8190,val loss: 0.4496, val acc: 0.8137, time: 1.1669\n",
            "Epoch 85: train loss:0.4145, train acc: 0.8257,val loss: 0.4500, val acc: 0.8061, time: 1.1573\n",
            "Epoch 90: train loss:0.4208, train acc: 0.8259,val loss: 0.4448, val acc: 0.8133, time: 1.1851\n",
            "Epoch 95: train loss:0.4200, train acc: 0.8200,val loss: 0.4484, val acc: 0.8145, time: 1.1586\n",
            "Epoch 100: train loss:0.4209, train acc: 0.8215,val loss: 0.4488, val acc: 0.8120, time: 1.2282\n"
          ],
          "name": "stdout"
        },
        {
          "output_type": "display_data",
          "data": {
            "text/plain": [
              "<Figure size 432x288 with 1 Axes>"
            ],
            "image/svg+xml": "<?xml version=\"1.0\" encoding=\"utf-8\" standalone=\"no\"?>\n<!DOCTYPE svg PUBLIC \"-//W3C//DTD SVG 1.1//EN\"\n  \"http://www.w3.org/Graphics/SVG/1.1/DTD/svg11.dtd\">\n<!-- Created with matplotlib (https://matplotlib.org/) -->\n<svg height=\"248.161875pt\" version=\"1.1\" viewBox=\"0 0 375.660937 248.161875\" width=\"375.660937pt\" xmlns=\"http://www.w3.org/2000/svg\" xmlns:xlink=\"http://www.w3.org/1999/xlink\">\n <defs>\n  <style type=\"text/css\">\n*{stroke-linecap:butt;stroke-linejoin:round;}\n  </style>\n </defs>\n <g id=\"figure_1\">\n  <g id=\"patch_1\">\n   <path d=\"M 0 248.161875 \nL 375.660937 248.161875 \nL 375.660937 0 \nL 0 0 \nz\n\" style=\"fill:none;\"/>\n  </g>\n  <g id=\"axes_1\">\n   <g id=\"patch_2\">\n    <path d=\"M 33.660938 224.64 \nL 368.460938 224.64 \nL 368.460938 7.2 \nL 33.660938 7.2 \nz\n\" style=\"fill:#eaeaf2;\"/>\n   </g>\n   <g id=\"matplotlib.axis_1\">\n    <g id=\"xtick_1\">\n     <g id=\"line2d_1\">\n      <path clip-path=\"url(#pb2223a0337)\" d=\"M 48.879119 224.64 \nL 48.879119 7.2 \n\" style=\"fill:none;stroke:#ffffff;stroke-linecap:round;\"/>\n     </g>\n     <g id=\"line2d_2\"/>\n     <g id=\"text_1\">\n      <!-- 0 -->\n      <defs>\n       <path d=\"M 51.703125 34.421875 \nQ 51.703125 24.515625 49.828125 17.75 \nQ 47.953125 10.984375 44.703125 6.8125 \nQ 41.453125 2.640625 37.0625 0.828125 \nQ 32.671875 -0.984375 27.6875 -0.984375 \nQ 22.65625 -0.984375 18.3125 0.828125 \nQ 13.96875 2.640625 10.765625 6.78125 \nQ 7.5625 10.9375 5.734375 17.703125 \nQ 3.90625 24.46875 3.90625 34.421875 \nQ 3.90625 44.828125 5.734375 51.640625 \nQ 7.5625 58.453125 10.78125 62.5 \nQ 14.015625 66.546875 18.40625 68.1875 \nQ 22.796875 69.828125 27.984375 69.828125 \nQ 32.90625 69.828125 37.21875 68.1875 \nQ 41.546875 66.546875 44.765625 62.5 \nQ 48 58.453125 49.84375 51.640625 \nQ 51.703125 44.828125 51.703125 34.421875 \nz\nM 42.78125 34.421875 \nQ 42.78125 42.625 41.796875 48.0625 \nQ 40.828125 53.515625 38.921875 56.765625 \nQ 37.015625 60.015625 34.25 61.359375 \nQ 31.5 62.703125 27.984375 62.703125 \nQ 24.265625 62.703125 21.4375 61.328125 \nQ 18.609375 59.96875 16.671875 56.71875 \nQ 14.75 53.46875 13.765625 48.015625 \nQ 12.796875 42.578125 12.796875 34.421875 \nQ 12.796875 26.515625 13.796875 21.09375 \nQ 14.796875 15.671875 16.71875 12.375 \nQ 18.65625 9.078125 21.4375 7.640625 \nQ 24.21875 6.203125 27.78125 6.203125 \nQ 31.25 6.203125 34.03125 7.640625 \nQ 36.8125 9.078125 38.734375 12.375 \nQ 40.671875 15.671875 41.71875 21.09375 \nQ 42.78125 26.515625 42.78125 34.421875 \nz\n\" id=\"LiberationSans-48\"/>\n      </defs>\n      <g style=\"fill:#262626;\" transform=\"translate(46.098651 238.886875)scale(0.1 -0.1)\">\n       <use xlink:href=\"#LiberationSans-48\"/>\n      </g>\n     </g>\n    </g>\n    <g id=\"xtick_2\">\n     <g id=\"line2d_3\">\n      <path clip-path=\"url(#pb2223a0337)\" d=\"M 110.366723 224.64 \nL 110.366723 7.2 \n\" style=\"fill:none;stroke:#ffffff;stroke-linecap:round;\"/>\n     </g>\n     <g id=\"line2d_4\"/>\n     <g id=\"text_2\">\n      <!-- 20 -->\n      <defs>\n       <path d=\"M 5.03125 0 \nL 5.03125 6.203125 \nQ 7.515625 11.921875 11.109375 16.28125 \nQ 14.703125 20.65625 18.65625 24.1875 \nQ 22.609375 27.734375 26.484375 30.765625 \nQ 30.375 33.796875 33.5 36.8125 \nQ 36.625 39.84375 38.546875 43.15625 \nQ 40.484375 46.484375 40.484375 50.6875 \nQ 40.484375 53.609375 39.59375 55.828125 \nQ 38.71875 58.0625 37.0625 59.5625 \nQ 35.40625 61.078125 33.078125 61.828125 \nQ 30.765625 62.59375 27.9375 62.59375 \nQ 25.296875 62.59375 22.96875 61.859375 \nQ 20.65625 61.140625 18.84375 59.671875 \nQ 17.046875 58.203125 15.890625 56.03125 \nQ 14.75 53.859375 14.40625 50.984375 \nL 5.421875 51.8125 \nQ 5.859375 55.515625 7.46875 58.78125 \nQ 9.078125 62.0625 11.90625 64.53125 \nQ 14.75 67 18.71875 68.40625 \nQ 22.703125 69.828125 27.9375 69.828125 \nQ 33.0625 69.828125 37.0625 68.609375 \nQ 41.0625 67.390625 43.8125 64.984375 \nQ 46.578125 62.59375 48.046875 59.078125 \nQ 49.515625 55.5625 49.515625 50.984375 \nQ 49.515625 47.515625 48.265625 44.390625 \nQ 47.015625 41.265625 44.9375 38.421875 \nQ 42.875 35.59375 40.140625 32.953125 \nQ 37.40625 30.328125 34.421875 27.8125 \nQ 31.453125 25.296875 28.421875 22.828125 \nQ 25.390625 20.359375 22.71875 17.859375 \nQ 20.0625 15.375 17.96875 12.8125 \nQ 15.875 10.25 14.703125 7.46875 \nL 50.59375 7.46875 \nL 50.59375 0 \nz\n\" id=\"LiberationSans-50\"/>\n      </defs>\n      <g style=\"fill:#262626;\" transform=\"translate(104.805785 238.886875)scale(0.1 -0.1)\">\n       <use xlink:href=\"#LiberationSans-50\"/>\n       <use x=\"55.615234\" xlink:href=\"#LiberationSans-48\"/>\n      </g>\n     </g>\n    </g>\n    <g id=\"xtick_3\">\n     <g id=\"line2d_5\">\n      <path clip-path=\"url(#pb2223a0337)\" d=\"M 171.854326 224.64 \nL 171.854326 7.2 \n\" style=\"fill:none;stroke:#ffffff;stroke-linecap:round;\"/>\n     </g>\n     <g id=\"line2d_6\"/>\n     <g id=\"text_3\">\n      <!-- 40 -->\n      <defs>\n       <path d=\"M 43.015625 15.578125 \nL 43.015625 0 \nL 34.71875 0 \nL 34.71875 15.578125 \nL 2.296875 15.578125 \nL 2.296875 22.40625 \nL 33.796875 68.796875 \nL 43.015625 68.796875 \nL 43.015625 22.515625 \nL 52.6875 22.515625 \nL 52.6875 15.578125 \nz\nM 34.71875 58.890625 \nQ 34.625 58.640625 34.234375 57.9375 \nQ 33.84375 57.234375 33.34375 56.34375 \nQ 32.859375 55.46875 32.34375 54.5625 \nQ 31.84375 53.65625 31.453125 53.078125 \nL 13.8125 27.09375 \nQ 13.578125 26.703125 13.109375 26.0625 \nQ 12.640625 25.4375 12.15625 24.78125 \nQ 11.671875 24.125 11.171875 23.484375 \nQ 10.6875 22.859375 10.40625 22.515625 \nL 34.71875 22.515625 \nz\n\" id=\"LiberationSans-52\"/>\n      </defs>\n      <g style=\"fill:#262626;\" transform=\"translate(166.293388 238.886875)scale(0.1 -0.1)\">\n       <use xlink:href=\"#LiberationSans-52\"/>\n       <use x=\"55.615234\" xlink:href=\"#LiberationSans-48\"/>\n      </g>\n     </g>\n    </g>\n    <g id=\"xtick_4\">\n     <g id=\"line2d_7\">\n      <path clip-path=\"url(#pb2223a0337)\" d=\"M 233.341929 224.64 \nL 233.341929 7.2 \n\" style=\"fill:none;stroke:#ffffff;stroke-linecap:round;\"/>\n     </g>\n     <g id=\"line2d_8\"/>\n     <g id=\"text_4\">\n      <!-- 60 -->\n      <defs>\n       <path d=\"M 51.21875 22.515625 \nQ 51.21875 17.328125 49.78125 13 \nQ 48.34375 8.6875 45.53125 5.578125 \nQ 42.71875 2.484375 38.5625 0.75 \nQ 34.421875 -0.984375 29 -0.984375 \nQ 23 -0.984375 18.5 1.3125 \nQ 14.015625 3.609375 11.03125 7.921875 \nQ 8.0625 12.25 6.5625 18.53125 \nQ 5.078125 24.8125 5.078125 32.8125 \nQ 5.078125 42 6.765625 48.921875 \nQ 8.453125 55.859375 11.625 60.5 \nQ 14.796875 65.140625 19.359375 67.484375 \nQ 23.921875 69.828125 29.6875 69.828125 \nQ 33.203125 69.828125 36.28125 69.09375 \nQ 39.359375 68.359375 41.875 66.71875 \nQ 44.390625 65.09375 46.28125 62.40625 \nQ 48.1875 59.71875 49.3125 55.8125 \nL 40.921875 54.296875 \nQ 39.546875 58.734375 36.546875 60.71875 \nQ 33.546875 62.703125 29.59375 62.703125 \nQ 25.984375 62.703125 23.046875 60.984375 \nQ 20.125 59.28125 18.0625 55.875 \nQ 16.015625 52.484375 14.90625 47.359375 \nQ 13.8125 42.234375 13.8125 35.40625 \nQ 16.21875 39.84375 20.5625 42.15625 \nQ 24.90625 44.484375 30.515625 44.484375 \nQ 35.203125 44.484375 39.015625 42.96875 \nQ 42.828125 41.453125 45.53125 38.59375 \nQ 48.25 35.75 49.734375 31.671875 \nQ 51.21875 27.59375 51.21875 22.515625 \nz\nM 42.28125 22.125 \nQ 42.28125 25.6875 41.40625 28.5625 \nQ 40.53125 31.453125 38.765625 33.46875 \nQ 37.015625 35.5 34.421875 36.59375 \nQ 31.84375 37.703125 28.421875 37.703125 \nQ 26.03125 37.703125 23.578125 36.984375 \nQ 21.140625 36.28125 19.15625 34.6875 \nQ 17.1875 33.109375 15.9375 30.515625 \nQ 14.703125 27.9375 14.703125 24.21875 \nQ 14.703125 20.40625 15.671875 17.109375 \nQ 16.65625 13.8125 18.484375 11.375 \nQ 20.3125 8.9375 22.890625 7.515625 \nQ 25.484375 6.109375 28.71875 6.109375 \nQ 31.890625 6.109375 34.40625 7.203125 \nQ 36.921875 8.296875 38.671875 10.375 \nQ 40.4375 12.453125 41.359375 15.421875 \nQ 42.28125 18.40625 42.28125 22.125 \nz\n\" id=\"LiberationSans-54\"/>\n      </defs>\n      <g style=\"fill:#262626;\" transform=\"translate(227.780992 238.886875)scale(0.1 -0.1)\">\n       <use xlink:href=\"#LiberationSans-54\"/>\n       <use x=\"55.615234\" xlink:href=\"#LiberationSans-48\"/>\n      </g>\n     </g>\n    </g>\n    <g id=\"xtick_5\">\n     <g id=\"line2d_9\">\n      <path clip-path=\"url(#pb2223a0337)\" d=\"M 294.829533 224.64 \nL 294.829533 7.2 \n\" style=\"fill:none;stroke:#ffffff;stroke-linecap:round;\"/>\n     </g>\n     <g id=\"line2d_10\"/>\n     <g id=\"text_5\">\n      <!-- 80 -->\n      <defs>\n       <path d=\"M 51.265625 19.1875 \nQ 51.265625 14.796875 49.875 11.109375 \nQ 48.484375 7.421875 45.625 4.734375 \nQ 42.78125 2.046875 38.328125 0.53125 \nQ 33.890625 -0.984375 27.828125 -0.984375 \nQ 21.78125 -0.984375 17.359375 0.53125 \nQ 12.9375 2.046875 10.03125 4.703125 \nQ 7.125 7.375 5.734375 11.0625 \nQ 4.34375 14.75 4.34375 19.09375 \nQ 4.34375 22.859375 5.484375 25.78125 \nQ 6.640625 28.71875 8.5625 30.828125 \nQ 10.5 32.953125 12.96875 34.25 \nQ 15.4375 35.546875 18.0625 35.984375 \nL 18.0625 36.1875 \nQ 15.1875 36.859375 12.90625 38.375 \nQ 10.640625 39.890625 9.09375 42.015625 \nQ 7.5625 44.140625 6.75 46.71875 \nQ 5.953125 49.3125 5.953125 52.203125 \nQ 5.953125 55.8125 7.34375 59 \nQ 8.734375 62.203125 11.46875 64.625 \nQ 14.203125 67.046875 18.25 68.4375 \nQ 22.3125 69.828125 27.640625 69.828125 \nQ 33.25 69.828125 37.375 68.40625 \nQ 41.5 67 44.203125 64.578125 \nQ 46.921875 62.15625 48.234375 58.9375 \nQ 49.5625 55.71875 49.5625 52.09375 \nQ 49.5625 49.265625 48.75 46.671875 \nQ 47.953125 44.09375 46.40625 41.96875 \nQ 44.875 39.84375 42.59375 38.34375 \nQ 40.328125 36.859375 37.359375 36.28125 \nL 37.359375 36.078125 \nQ 40.328125 35.59375 42.859375 34.296875 \nQ 45.40625 33.015625 47.265625 30.890625 \nQ 49.125 28.765625 50.1875 25.828125 \nQ 51.265625 22.90625 51.265625 19.1875 \nz\nM 40.4375 51.609375 \nQ 40.4375 54.203125 39.765625 56.34375 \nQ 39.109375 58.5 37.59375 60.03125 \nQ 36.078125 61.578125 33.640625 62.421875 \nQ 31.203125 63.28125 27.640625 63.28125 \nQ 24.171875 63.28125 21.78125 62.421875 \nQ 19.390625 61.578125 17.84375 60.03125 \nQ 16.3125 58.5 15.625 56.34375 \nQ 14.9375 54.203125 14.9375 51.609375 \nQ 14.9375 49.5625 15.46875 47.40625 \nQ 16.015625 45.265625 17.421875 43.5 \nQ 18.84375 41.75 21.328125 40.625 \nQ 23.828125 39.5 27.734375 39.5 \nQ 31.890625 39.5 34.40625 40.625 \nQ 36.921875 41.75 38.25 43.5 \nQ 39.59375 45.265625 40.015625 47.40625 \nQ 40.4375 49.5625 40.4375 51.609375 \nz\nM 42.140625 20.015625 \nQ 42.140625 22.515625 41.453125 24.828125 \nQ 40.765625 27.15625 39.109375 28.9375 \nQ 37.453125 30.71875 34.640625 31.8125 \nQ 31.84375 32.90625 27.640625 32.90625 \nQ 23.78125 32.90625 21.0625 31.8125 \nQ 18.359375 30.71875 16.671875 28.90625 \nQ 14.984375 27.09375 14.203125 24.71875 \nQ 13.421875 22.359375 13.421875 19.828125 \nQ 13.421875 16.65625 14.203125 14.03125 \nQ 14.984375 11.421875 16.6875 9.546875 \nQ 18.40625 7.671875 21.1875 6.640625 \nQ 23.96875 5.609375 27.9375 5.609375 \nQ 31.9375 5.609375 34.671875 6.640625 \nQ 37.40625 7.671875 39.0625 9.546875 \nQ 40.71875 11.421875 41.421875 14.078125 \nQ 42.140625 16.75 42.140625 20.015625 \nz\n\" id=\"LiberationSans-56\"/>\n      </defs>\n      <g style=\"fill:#262626;\" transform=\"translate(289.268595 238.886875)scale(0.1 -0.1)\">\n       <use xlink:href=\"#LiberationSans-56\"/>\n       <use x=\"55.615234\" xlink:href=\"#LiberationSans-48\"/>\n      </g>\n     </g>\n    </g>\n    <g id=\"xtick_6\">\n     <g id=\"line2d_11\">\n      <path clip-path=\"url(#pb2223a0337)\" d=\"M 356.317136 224.64 \nL 356.317136 7.2 \n\" style=\"fill:none;stroke:#ffffff;stroke-linecap:round;\"/>\n     </g>\n     <g id=\"line2d_12\"/>\n     <g id=\"text_6\">\n      <!-- 100 -->\n      <defs>\n       <path d=\"M 7.625 0 \nL 7.625 7.46875 \nL 25.140625 7.46875 \nL 25.140625 60.40625 \nL 9.625 49.3125 \nL 9.625 57.625 \nL 25.875 68.796875 \nL 33.984375 68.796875 \nL 33.984375 7.46875 \nL 50.734375 7.46875 \nL 50.734375 0 \nz\n\" id=\"LiberationSans-49\"/>\n      </defs>\n      <g style=\"fill:#262626;\" transform=\"translate(347.97573 238.886875)scale(0.1 -0.1)\">\n       <use xlink:href=\"#LiberationSans-49\"/>\n       <use x=\"55.615234\" xlink:href=\"#LiberationSans-48\"/>\n       <use x=\"111.230469\" xlink:href=\"#LiberationSans-48\"/>\n      </g>\n     </g>\n    </g>\n   </g>\n   <g id=\"matplotlib.axis_2\">\n    <g id=\"ytick_1\">\n     <g id=\"line2d_13\">\n      <path clip-path=\"url(#pb2223a0337)\" d=\"M 33.660938 185.382742 \nL 368.460938 185.382742 \n\" style=\"fill:none;stroke:#ffffff;stroke-linecap:round;\"/>\n     </g>\n     <g id=\"line2d_14\"/>\n     <g id=\"text_7\">\n      <!-- 0.45 -->\n      <defs>\n       <path d=\"M 9.125 0 \nL 9.125 10.6875 \nL 18.65625 10.6875 \nL 18.65625 0 \nz\n\" id=\"LiberationSans-46\"/>\n       <path d=\"M 51.421875 22.40625 \nQ 51.421875 17.234375 49.859375 12.9375 \nQ 48.296875 8.640625 45.21875 5.53125 \nQ 42.140625 2.4375 37.578125 0.71875 \nQ 33.015625 -0.984375 27 -0.984375 \nQ 21.578125 -0.984375 17.546875 0.28125 \nQ 13.53125 1.5625 10.734375 3.78125 \nQ 7.953125 6 6.3125 8.984375 \nQ 4.6875 11.96875 4 15.375 \nL 12.890625 16.40625 \nQ 13.421875 14.453125 14.390625 12.625 \nQ 15.375 10.796875 17.0625 9.34375 \nQ 18.75 7.90625 21.21875 7.046875 \nQ 23.6875 6.203125 27.203125 6.203125 \nQ 30.609375 6.203125 33.390625 7.25 \nQ 36.1875 8.296875 38.15625 10.34375 \nQ 40.140625 12.40625 41.203125 15.375 \nQ 42.28125 18.359375 42.28125 22.21875 \nQ 42.28125 25.390625 41.25 28.046875 \nQ 40.234375 30.71875 38.328125 32.640625 \nQ 36.421875 34.578125 33.65625 35.640625 \nQ 30.90625 36.71875 27.390625 36.71875 \nQ 25.203125 36.71875 23.34375 36.328125 \nQ 21.484375 35.9375 19.890625 35.25 \nQ 18.3125 34.578125 17.015625 33.671875 \nQ 15.71875 32.765625 14.59375 31.78125 \nL 6 31.78125 \nL 8.296875 68.796875 \nL 47.40625 68.796875 \nL 47.40625 61.328125 \nL 16.3125 61.328125 \nL 14.984375 39.5 \nQ 17.328125 41.3125 20.84375 42.59375 \nQ 24.359375 43.890625 29.203125 43.890625 \nQ 34.328125 43.890625 38.421875 42.328125 \nQ 42.53125 40.765625 45.40625 37.90625 \nQ 48.296875 35.0625 49.859375 31.109375 \nQ 51.421875 27.15625 51.421875 22.40625 \nz\n\" id=\"LiberationSans-53\"/>\n      </defs>\n      <g style=\"fill:#262626;\" transform=\"translate(7.2 189.006179)scale(0.1 -0.1)\">\n       <use xlink:href=\"#LiberationSans-48\"/>\n       <use x=\"55.615234\" xlink:href=\"#LiberationSans-46\"/>\n       <use x=\"83.398438\" xlink:href=\"#LiberationSans-52\"/>\n       <use x=\"139.013672\" xlink:href=\"#LiberationSans-53\"/>\n      </g>\n     </g>\n    </g>\n    <g id=\"ytick_2\">\n     <g id=\"line2d_15\">\n      <path clip-path=\"url(#pb2223a0337)\" d=\"M 33.660938 145.134586 \nL 368.460938 145.134586 \n\" style=\"fill:none;stroke:#ffffff;stroke-linecap:round;\"/>\n     </g>\n     <g id=\"line2d_16\"/>\n     <g id=\"text_8\">\n      <!-- 0.50 -->\n      <g style=\"fill:#262626;\" transform=\"translate(7.2 148.758023)scale(0.1 -0.1)\">\n       <use xlink:href=\"#LiberationSans-48\"/>\n       <use x=\"55.615234\" xlink:href=\"#LiberationSans-46\"/>\n       <use x=\"83.398438\" xlink:href=\"#LiberationSans-53\"/>\n       <use x=\"139.013672\" xlink:href=\"#LiberationSans-48\"/>\n      </g>\n     </g>\n    </g>\n    <g id=\"ytick_3\">\n     <g id=\"line2d_17\">\n      <path clip-path=\"url(#pb2223a0337)\" d=\"M 33.660938 104.88643 \nL 368.460938 104.88643 \n\" style=\"fill:none;stroke:#ffffff;stroke-linecap:round;\"/>\n     </g>\n     <g id=\"line2d_18\"/>\n     <g id=\"text_9\">\n      <!-- 0.55 -->\n      <g style=\"fill:#262626;\" transform=\"translate(7.2 108.509867)scale(0.1 -0.1)\">\n       <use xlink:href=\"#LiberationSans-48\"/>\n       <use x=\"55.615234\" xlink:href=\"#LiberationSans-46\"/>\n       <use x=\"83.398438\" xlink:href=\"#LiberationSans-53\"/>\n       <use x=\"139.013672\" xlink:href=\"#LiberationSans-53\"/>\n      </g>\n     </g>\n    </g>\n    <g id=\"ytick_4\">\n     <g id=\"line2d_19\">\n      <path clip-path=\"url(#pb2223a0337)\" d=\"M 33.660938 64.638273 \nL 368.460938 64.638273 \n\" style=\"fill:none;stroke:#ffffff;stroke-linecap:round;\"/>\n     </g>\n     <g id=\"line2d_20\"/>\n     <g id=\"text_10\">\n      <!-- 0.60 -->\n      <g style=\"fill:#262626;\" transform=\"translate(7.2 68.261711)scale(0.1 -0.1)\">\n       <use xlink:href=\"#LiberationSans-48\"/>\n       <use x=\"55.615234\" xlink:href=\"#LiberationSans-46\"/>\n       <use x=\"83.398438\" xlink:href=\"#LiberationSans-54\"/>\n       <use x=\"139.013672\" xlink:href=\"#LiberationSans-48\"/>\n      </g>\n     </g>\n    </g>\n    <g id=\"ytick_5\">\n     <g id=\"line2d_21\">\n      <path clip-path=\"url(#pb2223a0337)\" d=\"M 33.660938 24.390117 \nL 368.460938 24.390117 \n\" style=\"fill:none;stroke:#ffffff;stroke-linecap:round;\"/>\n     </g>\n     <g id=\"line2d_22\"/>\n     <g id=\"text_11\">\n      <!-- 0.65 -->\n      <g style=\"fill:#262626;\" transform=\"translate(7.2 28.013555)scale(0.1 -0.1)\">\n       <use xlink:href=\"#LiberationSans-48\"/>\n       <use x=\"55.615234\" xlink:href=\"#LiberationSans-46\"/>\n       <use x=\"83.398438\" xlink:href=\"#LiberationSans-54\"/>\n       <use x=\"139.013672\" xlink:href=\"#LiberationSans-53\"/>\n      </g>\n     </g>\n    </g>\n   </g>\n   <g id=\"line2d_23\">\n    <path clip-path=\"url(#pb2223a0337)\" d=\"M 48.879119 17.083636 \nL 51.953499 60.994093 \nL 55.02788 87.616104 \nL 58.10226 109.402394 \nL 61.17664 123.56082 \nL 64.25102 135.112599 \nL 67.3254 144.701638 \nL 70.39978 152.95117 \nL 73.474161 161.870899 \nL 76.548541 165.955135 \nL 79.622921 170.381893 \nL 82.697301 174.373321 \nL 85.771681 177.105907 \nL 88.846061 180.920587 \nL 91.920442 184.853919 \nL 94.994822 187.070795 \nL 98.069202 190.322176 \nL 101.143582 190.529845 \nL 104.217962 193.050758 \nL 107.292342 195.600737 \nL 110.366723 194.400151 \nL 113.441103 196.555126 \nL 116.515483 196.817265 \nL 119.589863 200.551265 \nL 122.664243 200.253052 \nL 125.738623 199.988752 \nL 128.813004 201.29636 \nL 131.887384 204.384358 \nL 134.961764 201.728374 \nL 138.036144 202.894231 \nL 141.110524 201.161406 \nL 144.184904 206.223086 \nL 147.259285 202.976295 \nL 150.333665 206.621689 \nL 153.408045 205.721017 \nL 156.482425 204.390777 \nL 159.556805 207.351358 \nL 162.631185 202.537571 \nL 165.705566 203.133773 \nL 168.779946 207.22305 \nL 171.854326 205.377162 \nL 174.928706 206.843803 \nL 178.003086 207.600868 \nL 181.077466 211.863074 \nL 184.151847 207.978066 \nL 187.226227 205.003706 \nL 190.300607 206.543611 \nL 193.374987 208.432437 \nL 196.449367 208.586343 \nL 199.523747 210.12246 \nL 202.598128 207.70363 \nL 205.672508 208.997156 \nL 208.746888 209.430543 \nL 211.821268 207.457637 \nL 214.895648 209.25099 \nL 217.970028 212.320847 \nL 221.044409 209.477237 \nL 224.118789 211.080339 \nL 227.193169 211.145845 \nL 230.267549 207.949198 \nL 233.341929 210.642646 \nL 236.416309 212.733989 \nL 239.49069 207.59925 \nL 242.56507 214.756364 \nL 245.63945 209.902277 \nL 248.71383 212.566062 \nL 251.78821 210.7442 \nL 254.86259 208.390399 \nL 257.936971 210.039469 \nL 261.011351 212.189991 \nL 264.085731 207.453742 \nL 267.160111 209.794253 \nL 270.234491 208.527008 \nL 273.308871 209.980522 \nL 276.383252 209.136553 \nL 279.457632 211.810919 \nL 282.532012 212.141713 \nL 285.606392 211.584614 \nL 288.680772 213.07272 \nL 291.755152 209.267205 \nL 294.829533 209.095588 \nL 297.903913 210.616431 \nL 300.978293 209.654406 \nL 304.052673 213.412377 \nL 307.127053 213.92563 \nL 310.201433 210.703177 \nL 313.275814 212.579371 \nL 316.350194 212.112996 \nL 319.424574 210.600863 \nL 322.498954 208.921301 \nL 325.573334 213.558455 \nL 328.647714 211.621854 \nL 331.722095 206.942486 \nL 334.796475 211.351527 \nL 337.870855 209.497466 \nL 340.945235 207.648803 \nL 344.019615 207.061216 \nL 347.093995 209.936636 \nL 350.168376 208.194751 \nL 353.242756 208.831998 \n\" style=\"fill:none;stroke:#4c72b0;stroke-linecap:round;stroke-width:1.75;\"/>\n   </g>\n   <g id=\"line2d_24\">\n    <path clip-path=\"url(#pb2223a0337)\" d=\"M 48.879119 39.445943 \nL 51.953499 68.477889 \nL 55.02788 91.599239 \nL 58.10226 106.86014 \nL 61.17664 116.43585 \nL 64.25102 129.108741 \nL 67.3254 132.456074 \nL 70.39978 142.886114 \nL 73.474161 148.886196 \nL 76.548541 151.893236 \nL 79.622921 156.41133 \nL 82.697301 157.872432 \nL 85.771681 162.733637 \nL 88.846061 165.617507 \nL 91.920442 167.705469 \nL 94.994822 167.263487 \nL 98.069202 170.178119 \nL 101.143582 172.343157 \nL 104.217962 173.206775 \nL 107.292342 172.073843 \nL 110.366723 171.905541 \nL 113.441103 178.681006 \nL 116.515483 179.299691 \nL 119.589863 178.791453 \nL 122.664243 178.959006 \nL 125.738623 181.053487 \nL 128.813004 177.612275 \nL 131.887384 181.465511 \nL 134.961764 182.604924 \nL 138.036144 182.650685 \nL 141.110524 184.798397 \nL 144.184904 182.725489 \nL 147.259285 181.26331 \nL 150.333665 181.917059 \nL 153.408045 183.517076 \nL 156.482425 183.275238 \nL 159.556805 183.318942 \nL 162.631185 183.665186 \nL 165.705566 184.910288 \nL 168.779946 186.02913 \nL 171.854326 186.924669 \nL 174.928706 185.828803 \nL 178.003086 189.57149 \nL 181.077466 186.199142 \nL 184.151847 185.340154 \nL 187.226227 187.354859 \nL 190.300607 185.94246 \nL 193.374987 187.180386 \nL 196.449367 186.600258 \nL 199.523747 185.253566 \nL 202.598128 186.92546 \nL 205.672508 187.19974 \nL 208.746888 184.384758 \nL 211.821268 185.56827 \nL 214.895648 186.647322 \nL 217.970028 186.3097 \nL 221.044409 182.086259 \nL 224.118789 188.697017 \nL 227.193169 185.863813 \nL 230.267549 187.638833 \nL 233.341929 187.299525 \nL 236.416309 187.098388 \nL 239.49069 189.118226 \nL 242.56507 183.570893 \nL 245.63945 187.967966 \nL 248.71383 184.897395 \nL 251.78821 184.583193 \nL 254.86259 189.712867 \nL 257.936971 185.77406 \nL 261.011351 186.024699 \nL 264.085731 187.189851 \nL 267.160111 186.012573 \nL 270.234491 183.093533 \nL 273.308871 187.660566 \nL 276.383252 180.436225 \nL 279.457632 187.821214 \nL 282.532012 186.776738 \nL 285.606392 185.346255 \nL 288.680772 183.447317 \nL 291.755152 185.712932 \nL 294.829533 187.774516 \nL 297.903913 186.441838 \nL 300.978293 187.324971 \nL 304.052673 183.399599 \nL 307.127053 185.421667 \nL 310.201433 186.295452 \nL 313.275814 184.1221 \nL 316.350194 185.410321 \nL 319.424574 187.553865 \nL 322.498954 189.600848 \nL 325.573334 187.386686 \nL 328.647714 188.490904 \nL 331.722095 188.281243 \nL 334.796475 185.885346 \nL 337.870855 186.681219 \nL 340.945235 184.75143 \nL 344.019615 189.012817 \nL 347.093995 187.186518 \nL 350.168376 188.365417 \nL 353.242756 186.343412 \n\" style=\"fill:none;stroke:#55a868;stroke-linecap:round;stroke-width:1.75;\"/>\n   </g>\n   <g id=\"patch_3\">\n    <path d=\"M 33.660938 224.64 \nL 33.660938 7.2 \n\" style=\"fill:none;\"/>\n   </g>\n   <g id=\"patch_4\">\n    <path d=\"M 368.460938 224.64 \nL 368.460938 7.2 \n\" style=\"fill:none;\"/>\n   </g>\n   <g id=\"patch_5\">\n    <path d=\"M 33.660938 224.64 \nL 368.460938 224.64 \n\" style=\"fill:none;\"/>\n   </g>\n   <g id=\"patch_6\">\n    <path d=\"M 33.660938 7.2 \nL 368.460938 7.2 \n\" style=\"fill:none;\"/>\n   </g>\n  </g>\n </g>\n <defs>\n  <clipPath id=\"pb2223a0337\">\n   <rect height=\"217.44\" width=\"334.8\" x=\"33.660938\" y=\"7.2\"/>\n  </clipPath>\n </defs>\n</svg>\n"
          },
          "metadata": {
            "tags": [],
            "needs_background": "light"
          }
        },
        {
          "output_type": "display_data",
          "data": {
            "text/plain": [
              "<Figure size 432x288 with 1 Axes>"
            ],
            "image/svg+xml": "<?xml version=\"1.0\" encoding=\"utf-8\" standalone=\"no\"?>\n<!DOCTYPE svg PUBLIC \"-//W3C//DTD SVG 1.1//EN\"\n  \"http://www.w3.org/Graphics/SVG/1.1/DTD/svg11.dtd\">\n<!-- Created with matplotlib (https://matplotlib.org/) -->\n<svg height=\"248.161875pt\" version=\"1.1\" viewBox=\"0 0 381.221875 248.161875\" width=\"381.221875pt\" xmlns=\"http://www.w3.org/2000/svg\" xmlns:xlink=\"http://www.w3.org/1999/xlink\">\n <defs>\n  <style type=\"text/css\">\n*{stroke-linecap:butt;stroke-linejoin:round;}\n  </style>\n </defs>\n <g id=\"figure_1\">\n  <g id=\"patch_1\">\n   <path d=\"M 0 248.161875 \nL 381.221875 248.161875 \nL 381.221875 0 \nL 0 0 \nz\n\" style=\"fill:none;\"/>\n  </g>\n  <g id=\"axes_1\">\n   <g id=\"patch_2\">\n    <path d=\"M 39.221875 224.64 \nL 374.021875 224.64 \nL 374.021875 7.2 \nL 39.221875 7.2 \nz\n\" style=\"fill:#eaeaf2;\"/>\n   </g>\n   <g id=\"matplotlib.axis_1\">\n    <g id=\"xtick_1\">\n     <g id=\"line2d_1\">\n      <path clip-path=\"url(#p4452e71ff8)\" d=\"M 54.440057 224.64 \nL 54.440057 7.2 \n\" style=\"fill:none;stroke:#ffffff;stroke-linecap:round;\"/>\n     </g>\n     <g id=\"line2d_2\"/>\n     <g id=\"text_1\">\n      <!-- 0 -->\n      <defs>\n       <path d=\"M 51.703125 34.421875 \nQ 51.703125 24.515625 49.828125 17.75 \nQ 47.953125 10.984375 44.703125 6.8125 \nQ 41.453125 2.640625 37.0625 0.828125 \nQ 32.671875 -0.984375 27.6875 -0.984375 \nQ 22.65625 -0.984375 18.3125 0.828125 \nQ 13.96875 2.640625 10.765625 6.78125 \nQ 7.5625 10.9375 5.734375 17.703125 \nQ 3.90625 24.46875 3.90625 34.421875 \nQ 3.90625 44.828125 5.734375 51.640625 \nQ 7.5625 58.453125 10.78125 62.5 \nQ 14.015625 66.546875 18.40625 68.1875 \nQ 22.796875 69.828125 27.984375 69.828125 \nQ 32.90625 69.828125 37.21875 68.1875 \nQ 41.546875 66.546875 44.765625 62.5 \nQ 48 58.453125 49.84375 51.640625 \nQ 51.703125 44.828125 51.703125 34.421875 \nz\nM 42.78125 34.421875 \nQ 42.78125 42.625 41.796875 48.0625 \nQ 40.828125 53.515625 38.921875 56.765625 \nQ 37.015625 60.015625 34.25 61.359375 \nQ 31.5 62.703125 27.984375 62.703125 \nQ 24.265625 62.703125 21.4375 61.328125 \nQ 18.609375 59.96875 16.671875 56.71875 \nQ 14.75 53.46875 13.765625 48.015625 \nQ 12.796875 42.578125 12.796875 34.421875 \nQ 12.796875 26.515625 13.796875 21.09375 \nQ 14.796875 15.671875 16.71875 12.375 \nQ 18.65625 9.078125 21.4375 7.640625 \nQ 24.21875 6.203125 27.78125 6.203125 \nQ 31.25 6.203125 34.03125 7.640625 \nQ 36.8125 9.078125 38.734375 12.375 \nQ 40.671875 15.671875 41.71875 21.09375 \nQ 42.78125 26.515625 42.78125 34.421875 \nz\n\" id=\"LiberationSans-48\"/>\n      </defs>\n      <g style=\"fill:#262626;\" transform=\"translate(51.659588 238.886875)scale(0.1 -0.1)\">\n       <use xlink:href=\"#LiberationSans-48\"/>\n      </g>\n     </g>\n    </g>\n    <g id=\"xtick_2\">\n     <g id=\"line2d_3\">\n      <path clip-path=\"url(#p4452e71ff8)\" d=\"M 115.92766 224.64 \nL 115.92766 7.2 \n\" style=\"fill:none;stroke:#ffffff;stroke-linecap:round;\"/>\n     </g>\n     <g id=\"line2d_4\"/>\n     <g id=\"text_2\">\n      <!-- 20 -->\n      <defs>\n       <path d=\"M 5.03125 0 \nL 5.03125 6.203125 \nQ 7.515625 11.921875 11.109375 16.28125 \nQ 14.703125 20.65625 18.65625 24.1875 \nQ 22.609375 27.734375 26.484375 30.765625 \nQ 30.375 33.796875 33.5 36.8125 \nQ 36.625 39.84375 38.546875 43.15625 \nQ 40.484375 46.484375 40.484375 50.6875 \nQ 40.484375 53.609375 39.59375 55.828125 \nQ 38.71875 58.0625 37.0625 59.5625 \nQ 35.40625 61.078125 33.078125 61.828125 \nQ 30.765625 62.59375 27.9375 62.59375 \nQ 25.296875 62.59375 22.96875 61.859375 \nQ 20.65625 61.140625 18.84375 59.671875 \nQ 17.046875 58.203125 15.890625 56.03125 \nQ 14.75 53.859375 14.40625 50.984375 \nL 5.421875 51.8125 \nQ 5.859375 55.515625 7.46875 58.78125 \nQ 9.078125 62.0625 11.90625 64.53125 \nQ 14.75 67 18.71875 68.40625 \nQ 22.703125 69.828125 27.9375 69.828125 \nQ 33.0625 69.828125 37.0625 68.609375 \nQ 41.0625 67.390625 43.8125 64.984375 \nQ 46.578125 62.59375 48.046875 59.078125 \nQ 49.515625 55.5625 49.515625 50.984375 \nQ 49.515625 47.515625 48.265625 44.390625 \nQ 47.015625 41.265625 44.9375 38.421875 \nQ 42.875 35.59375 40.140625 32.953125 \nQ 37.40625 30.328125 34.421875 27.8125 \nQ 31.453125 25.296875 28.421875 22.828125 \nQ 25.390625 20.359375 22.71875 17.859375 \nQ 20.0625 15.375 17.96875 12.8125 \nQ 15.875 10.25 14.703125 7.46875 \nL 50.59375 7.46875 \nL 50.59375 0 \nz\n\" id=\"LiberationSans-50\"/>\n      </defs>\n      <g style=\"fill:#262626;\" transform=\"translate(110.366723 238.886875)scale(0.1 -0.1)\">\n       <use xlink:href=\"#LiberationSans-50\"/>\n       <use x=\"55.615234\" xlink:href=\"#LiberationSans-48\"/>\n      </g>\n     </g>\n    </g>\n    <g id=\"xtick_3\">\n     <g id=\"line2d_5\">\n      <path clip-path=\"url(#p4452e71ff8)\" d=\"M 177.415263 224.64 \nL 177.415263 7.2 \n\" style=\"fill:none;stroke:#ffffff;stroke-linecap:round;\"/>\n     </g>\n     <g id=\"line2d_6\"/>\n     <g id=\"text_3\">\n      <!-- 40 -->\n      <defs>\n       <path d=\"M 43.015625 15.578125 \nL 43.015625 0 \nL 34.71875 0 \nL 34.71875 15.578125 \nL 2.296875 15.578125 \nL 2.296875 22.40625 \nL 33.796875 68.796875 \nL 43.015625 68.796875 \nL 43.015625 22.515625 \nL 52.6875 22.515625 \nL 52.6875 15.578125 \nz\nM 34.71875 58.890625 \nQ 34.625 58.640625 34.234375 57.9375 \nQ 33.84375 57.234375 33.34375 56.34375 \nQ 32.859375 55.46875 32.34375 54.5625 \nQ 31.84375 53.65625 31.453125 53.078125 \nL 13.8125 27.09375 \nQ 13.578125 26.703125 13.109375 26.0625 \nQ 12.640625 25.4375 12.15625 24.78125 \nQ 11.671875 24.125 11.171875 23.484375 \nQ 10.6875 22.859375 10.40625 22.515625 \nL 34.71875 22.515625 \nz\n\" id=\"LiberationSans-52\"/>\n      </defs>\n      <g style=\"fill:#262626;\" transform=\"translate(171.854326 238.886875)scale(0.1 -0.1)\">\n       <use xlink:href=\"#LiberationSans-52\"/>\n       <use x=\"55.615234\" xlink:href=\"#LiberationSans-48\"/>\n      </g>\n     </g>\n    </g>\n    <g id=\"xtick_4\">\n     <g id=\"line2d_7\">\n      <path clip-path=\"url(#p4452e71ff8)\" d=\"M 238.902867 224.64 \nL 238.902867 7.2 \n\" style=\"fill:none;stroke:#ffffff;stroke-linecap:round;\"/>\n     </g>\n     <g id=\"line2d_8\"/>\n     <g id=\"text_4\">\n      <!-- 60 -->\n      <defs>\n       <path d=\"M 51.21875 22.515625 \nQ 51.21875 17.328125 49.78125 13 \nQ 48.34375 8.6875 45.53125 5.578125 \nQ 42.71875 2.484375 38.5625 0.75 \nQ 34.421875 -0.984375 29 -0.984375 \nQ 23 -0.984375 18.5 1.3125 \nQ 14.015625 3.609375 11.03125 7.921875 \nQ 8.0625 12.25 6.5625 18.53125 \nQ 5.078125 24.8125 5.078125 32.8125 \nQ 5.078125 42 6.765625 48.921875 \nQ 8.453125 55.859375 11.625 60.5 \nQ 14.796875 65.140625 19.359375 67.484375 \nQ 23.921875 69.828125 29.6875 69.828125 \nQ 33.203125 69.828125 36.28125 69.09375 \nQ 39.359375 68.359375 41.875 66.71875 \nQ 44.390625 65.09375 46.28125 62.40625 \nQ 48.1875 59.71875 49.3125 55.8125 \nL 40.921875 54.296875 \nQ 39.546875 58.734375 36.546875 60.71875 \nQ 33.546875 62.703125 29.59375 62.703125 \nQ 25.984375 62.703125 23.046875 60.984375 \nQ 20.125 59.28125 18.0625 55.875 \nQ 16.015625 52.484375 14.90625 47.359375 \nQ 13.8125 42.234375 13.8125 35.40625 \nQ 16.21875 39.84375 20.5625 42.15625 \nQ 24.90625 44.484375 30.515625 44.484375 \nQ 35.203125 44.484375 39.015625 42.96875 \nQ 42.828125 41.453125 45.53125 38.59375 \nQ 48.25 35.75 49.734375 31.671875 \nQ 51.21875 27.59375 51.21875 22.515625 \nz\nM 42.28125 22.125 \nQ 42.28125 25.6875 41.40625 28.5625 \nQ 40.53125 31.453125 38.765625 33.46875 \nQ 37.015625 35.5 34.421875 36.59375 \nQ 31.84375 37.703125 28.421875 37.703125 \nQ 26.03125 37.703125 23.578125 36.984375 \nQ 21.140625 36.28125 19.15625 34.6875 \nQ 17.1875 33.109375 15.9375 30.515625 \nQ 14.703125 27.9375 14.703125 24.21875 \nQ 14.703125 20.40625 15.671875 17.109375 \nQ 16.65625 13.8125 18.484375 11.375 \nQ 20.3125 8.9375 22.890625 7.515625 \nQ 25.484375 6.109375 28.71875 6.109375 \nQ 31.890625 6.109375 34.40625 7.203125 \nQ 36.921875 8.296875 38.671875 10.375 \nQ 40.4375 12.453125 41.359375 15.421875 \nQ 42.28125 18.40625 42.28125 22.125 \nz\n\" id=\"LiberationSans-54\"/>\n      </defs>\n      <g style=\"fill:#262626;\" transform=\"translate(233.341929 238.886875)scale(0.1 -0.1)\">\n       <use xlink:href=\"#LiberationSans-54\"/>\n       <use x=\"55.615234\" xlink:href=\"#LiberationSans-48\"/>\n      </g>\n     </g>\n    </g>\n    <g id=\"xtick_5\">\n     <g id=\"line2d_9\">\n      <path clip-path=\"url(#p4452e71ff8)\" d=\"M 300.39047 224.64 \nL 300.39047 7.2 \n\" style=\"fill:none;stroke:#ffffff;stroke-linecap:round;\"/>\n     </g>\n     <g id=\"line2d_10\"/>\n     <g id=\"text_5\">\n      <!-- 80 -->\n      <defs>\n       <path d=\"M 51.265625 19.1875 \nQ 51.265625 14.796875 49.875 11.109375 \nQ 48.484375 7.421875 45.625 4.734375 \nQ 42.78125 2.046875 38.328125 0.53125 \nQ 33.890625 -0.984375 27.828125 -0.984375 \nQ 21.78125 -0.984375 17.359375 0.53125 \nQ 12.9375 2.046875 10.03125 4.703125 \nQ 7.125 7.375 5.734375 11.0625 \nQ 4.34375 14.75 4.34375 19.09375 \nQ 4.34375 22.859375 5.484375 25.78125 \nQ 6.640625 28.71875 8.5625 30.828125 \nQ 10.5 32.953125 12.96875 34.25 \nQ 15.4375 35.546875 18.0625 35.984375 \nL 18.0625 36.1875 \nQ 15.1875 36.859375 12.90625 38.375 \nQ 10.640625 39.890625 9.09375 42.015625 \nQ 7.5625 44.140625 6.75 46.71875 \nQ 5.953125 49.3125 5.953125 52.203125 \nQ 5.953125 55.8125 7.34375 59 \nQ 8.734375 62.203125 11.46875 64.625 \nQ 14.203125 67.046875 18.25 68.4375 \nQ 22.3125 69.828125 27.640625 69.828125 \nQ 33.25 69.828125 37.375 68.40625 \nQ 41.5 67 44.203125 64.578125 \nQ 46.921875 62.15625 48.234375 58.9375 \nQ 49.5625 55.71875 49.5625 52.09375 \nQ 49.5625 49.265625 48.75 46.671875 \nQ 47.953125 44.09375 46.40625 41.96875 \nQ 44.875 39.84375 42.59375 38.34375 \nQ 40.328125 36.859375 37.359375 36.28125 \nL 37.359375 36.078125 \nQ 40.328125 35.59375 42.859375 34.296875 \nQ 45.40625 33.015625 47.265625 30.890625 \nQ 49.125 28.765625 50.1875 25.828125 \nQ 51.265625 22.90625 51.265625 19.1875 \nz\nM 40.4375 51.609375 \nQ 40.4375 54.203125 39.765625 56.34375 \nQ 39.109375 58.5 37.59375 60.03125 \nQ 36.078125 61.578125 33.640625 62.421875 \nQ 31.203125 63.28125 27.640625 63.28125 \nQ 24.171875 63.28125 21.78125 62.421875 \nQ 19.390625 61.578125 17.84375 60.03125 \nQ 16.3125 58.5 15.625 56.34375 \nQ 14.9375 54.203125 14.9375 51.609375 \nQ 14.9375 49.5625 15.46875 47.40625 \nQ 16.015625 45.265625 17.421875 43.5 \nQ 18.84375 41.75 21.328125 40.625 \nQ 23.828125 39.5 27.734375 39.5 \nQ 31.890625 39.5 34.40625 40.625 \nQ 36.921875 41.75 38.25 43.5 \nQ 39.59375 45.265625 40.015625 47.40625 \nQ 40.4375 49.5625 40.4375 51.609375 \nz\nM 42.140625 20.015625 \nQ 42.140625 22.515625 41.453125 24.828125 \nQ 40.765625 27.15625 39.109375 28.9375 \nQ 37.453125 30.71875 34.640625 31.8125 \nQ 31.84375 32.90625 27.640625 32.90625 \nQ 23.78125 32.90625 21.0625 31.8125 \nQ 18.359375 30.71875 16.671875 28.90625 \nQ 14.984375 27.09375 14.203125 24.71875 \nQ 13.421875 22.359375 13.421875 19.828125 \nQ 13.421875 16.65625 14.203125 14.03125 \nQ 14.984375 11.421875 16.6875 9.546875 \nQ 18.40625 7.671875 21.1875 6.640625 \nQ 23.96875 5.609375 27.9375 5.609375 \nQ 31.9375 5.609375 34.671875 6.640625 \nQ 37.40625 7.671875 39.0625 9.546875 \nQ 40.71875 11.421875 41.421875 14.078125 \nQ 42.140625 16.75 42.140625 20.015625 \nz\n\" id=\"LiberationSans-56\"/>\n      </defs>\n      <g style=\"fill:#262626;\" transform=\"translate(294.829533 238.886875)scale(0.1 -0.1)\">\n       <use xlink:href=\"#LiberationSans-56\"/>\n       <use x=\"55.615234\" xlink:href=\"#LiberationSans-48\"/>\n      </g>\n     </g>\n    </g>\n    <g id=\"xtick_6\">\n     <g id=\"line2d_11\">\n      <path clip-path=\"url(#p4452e71ff8)\" d=\"M 361.878073 224.64 \nL 361.878073 7.2 \n\" style=\"fill:none;stroke:#ffffff;stroke-linecap:round;\"/>\n     </g>\n     <g id=\"line2d_12\"/>\n     <g id=\"text_6\">\n      <!-- 100 -->\n      <defs>\n       <path d=\"M 7.625 0 \nL 7.625 7.46875 \nL 25.140625 7.46875 \nL 25.140625 60.40625 \nL 9.625 49.3125 \nL 9.625 57.625 \nL 25.875 68.796875 \nL 33.984375 68.796875 \nL 33.984375 7.46875 \nL 50.734375 7.46875 \nL 50.734375 0 \nz\n\" id=\"LiberationSans-49\"/>\n      </defs>\n      <g style=\"fill:#262626;\" transform=\"translate(353.536667 238.886875)scale(0.1 -0.1)\">\n       <use xlink:href=\"#LiberationSans-49\"/>\n       <use x=\"55.615234\" xlink:href=\"#LiberationSans-48\"/>\n       <use x=\"111.230469\" xlink:href=\"#LiberationSans-48\"/>\n      </g>\n     </g>\n    </g>\n   </g>\n   <g id=\"matplotlib.axis_2\">\n    <g id=\"ytick_1\">\n     <g id=\"line2d_13\">\n      <path clip-path=\"url(#p4452e71ff8)\" d=\"M 39.221875 195.343619 \nL 374.021875 195.343619 \n\" style=\"fill:none;stroke:#ffffff;stroke-linecap:round;\"/>\n     </g>\n     <g id=\"line2d_14\"/>\n     <g id=\"text_7\">\n      <!-- 0.675 -->\n      <defs>\n       <path d=\"M 9.125 0 \nL 9.125 10.6875 \nL 18.65625 10.6875 \nL 18.65625 0 \nz\n\" id=\"LiberationSans-46\"/>\n       <path d=\"M 50.59375 61.671875 \nQ 45.40625 53.765625 41.0625 46.453125 \nQ 36.71875 39.15625 33.59375 31.75 \nQ 30.46875 24.359375 28.734375 16.578125 \nQ 27 8.796875 27 0 \nL 17.828125 0 \nQ 17.828125 8.25 19.78125 16.1875 \nQ 21.734375 24.125 25.046875 31.765625 \nQ 28.375 39.40625 32.765625 46.78125 \nQ 37.15625 54.15625 42.09375 61.328125 \nL 5.125 61.328125 \nL 5.125 68.796875 \nL 50.59375 68.796875 \nz\n\" id=\"LiberationSans-55\"/>\n       <path d=\"M 51.421875 22.40625 \nQ 51.421875 17.234375 49.859375 12.9375 \nQ 48.296875 8.640625 45.21875 5.53125 \nQ 42.140625 2.4375 37.578125 0.71875 \nQ 33.015625 -0.984375 27 -0.984375 \nQ 21.578125 -0.984375 17.546875 0.28125 \nQ 13.53125 1.5625 10.734375 3.78125 \nQ 7.953125 6 6.3125 8.984375 \nQ 4.6875 11.96875 4 15.375 \nL 12.890625 16.40625 \nQ 13.421875 14.453125 14.390625 12.625 \nQ 15.375 10.796875 17.0625 9.34375 \nQ 18.75 7.90625 21.21875 7.046875 \nQ 23.6875 6.203125 27.203125 6.203125 \nQ 30.609375 6.203125 33.390625 7.25 \nQ 36.1875 8.296875 38.15625 10.34375 \nQ 40.140625 12.40625 41.203125 15.375 \nQ 42.28125 18.359375 42.28125 22.21875 \nQ 42.28125 25.390625 41.25 28.046875 \nQ 40.234375 30.71875 38.328125 32.640625 \nQ 36.421875 34.578125 33.65625 35.640625 \nQ 30.90625 36.71875 27.390625 36.71875 \nQ 25.203125 36.71875 23.34375 36.328125 \nQ 21.484375 35.9375 19.890625 35.25 \nQ 18.3125 34.578125 17.015625 33.671875 \nQ 15.71875 32.765625 14.59375 31.78125 \nL 6 31.78125 \nL 8.296875 68.796875 \nL 47.40625 68.796875 \nL 47.40625 61.328125 \nL 16.3125 61.328125 \nL 14.984375 39.5 \nQ 17.328125 41.3125 20.84375 42.59375 \nQ 24.359375 43.890625 29.203125 43.890625 \nQ 34.328125 43.890625 38.421875 42.328125 \nQ 42.53125 40.765625 45.40625 37.90625 \nQ 48.296875 35.0625 49.859375 31.109375 \nQ 51.421875 27.15625 51.421875 22.40625 \nz\n\" id=\"LiberationSans-53\"/>\n      </defs>\n      <g style=\"fill:#262626;\" transform=\"translate(7.2 198.967057)scale(0.1 -0.1)\">\n       <use xlink:href=\"#LiberationSans-48\"/>\n       <use x=\"55.615234\" xlink:href=\"#LiberationSans-46\"/>\n       <use x=\"83.398438\" xlink:href=\"#LiberationSans-54\"/>\n       <use x=\"139.013672\" xlink:href=\"#LiberationSans-55\"/>\n       <use x=\"194.628906\" xlink:href=\"#LiberationSans-53\"/>\n      </g>\n     </g>\n    </g>\n    <g id=\"ytick_2\">\n     <g id=\"line2d_15\">\n      <path clip-path=\"url(#p4452e71ff8)\" d=\"M 39.221875 165.960919 \nL 374.021875 165.960919 \n\" style=\"fill:none;stroke:#ffffff;stroke-linecap:round;\"/>\n     </g>\n     <g id=\"line2d_16\"/>\n     <g id=\"text_8\">\n      <!-- 0.700 -->\n      <g style=\"fill:#262626;\" transform=\"translate(7.2 169.584356)scale(0.1 -0.1)\">\n       <use xlink:href=\"#LiberationSans-48\"/>\n       <use x=\"55.615234\" xlink:href=\"#LiberationSans-46\"/>\n       <use x=\"83.398438\" xlink:href=\"#LiberationSans-55\"/>\n       <use x=\"139.013672\" xlink:href=\"#LiberationSans-48\"/>\n       <use x=\"194.628906\" xlink:href=\"#LiberationSans-48\"/>\n      </g>\n     </g>\n    </g>\n    <g id=\"ytick_3\">\n     <g id=\"line2d_17\">\n      <path clip-path=\"url(#p4452e71ff8)\" d=\"M 39.221875 136.578218 \nL 374.021875 136.578218 \n\" style=\"fill:none;stroke:#ffffff;stroke-linecap:round;\"/>\n     </g>\n     <g id=\"line2d_18\"/>\n     <g id=\"text_9\">\n      <!-- 0.725 -->\n      <g style=\"fill:#262626;\" transform=\"translate(7.2 140.201656)scale(0.1 -0.1)\">\n       <use xlink:href=\"#LiberationSans-48\"/>\n       <use x=\"55.615234\" xlink:href=\"#LiberationSans-46\"/>\n       <use x=\"83.398438\" xlink:href=\"#LiberationSans-55\"/>\n       <use x=\"139.013672\" xlink:href=\"#LiberationSans-50\"/>\n       <use x=\"194.628906\" xlink:href=\"#LiberationSans-53\"/>\n      </g>\n     </g>\n    </g>\n    <g id=\"ytick_4\">\n     <g id=\"line2d_19\">\n      <path clip-path=\"url(#p4452e71ff8)\" d=\"M 39.221875 107.195517 \nL 374.021875 107.195517 \n\" style=\"fill:none;stroke:#ffffff;stroke-linecap:round;\"/>\n     </g>\n     <g id=\"line2d_20\"/>\n     <g id=\"text_10\">\n      <!-- 0.750 -->\n      <g style=\"fill:#262626;\" transform=\"translate(7.2 110.818955)scale(0.1 -0.1)\">\n       <use xlink:href=\"#LiberationSans-48\"/>\n       <use x=\"55.615234\" xlink:href=\"#LiberationSans-46\"/>\n       <use x=\"83.398438\" xlink:href=\"#LiberationSans-55\"/>\n       <use x=\"139.013672\" xlink:href=\"#LiberationSans-53\"/>\n       <use x=\"194.628906\" xlink:href=\"#LiberationSans-48\"/>\n      </g>\n     </g>\n    </g>\n    <g id=\"ytick_5\">\n     <g id=\"line2d_21\">\n      <path clip-path=\"url(#p4452e71ff8)\" d=\"M 39.221875 77.812817 \nL 374.021875 77.812817 \n\" style=\"fill:none;stroke:#ffffff;stroke-linecap:round;\"/>\n     </g>\n     <g id=\"line2d_22\"/>\n     <g id=\"text_11\">\n      <!-- 0.775 -->\n      <g style=\"fill:#262626;\" transform=\"translate(7.2 81.436254)scale(0.1 -0.1)\">\n       <use xlink:href=\"#LiberationSans-48\"/>\n       <use x=\"55.615234\" xlink:href=\"#LiberationSans-46\"/>\n       <use x=\"83.398438\" xlink:href=\"#LiberationSans-55\"/>\n       <use x=\"139.013672\" xlink:href=\"#LiberationSans-55\"/>\n       <use x=\"194.628906\" xlink:href=\"#LiberationSans-53\"/>\n      </g>\n     </g>\n    </g>\n    <g id=\"ytick_6\">\n     <g id=\"line2d_23\">\n      <path clip-path=\"url(#p4452e71ff8)\" d=\"M 39.221875 48.430116 \nL 374.021875 48.430116 \n\" style=\"fill:none;stroke:#ffffff;stroke-linecap:round;\"/>\n     </g>\n     <g id=\"line2d_24\"/>\n     <g id=\"text_12\">\n      <!-- 0.800 -->\n      <g style=\"fill:#262626;\" transform=\"translate(7.2 52.053554)scale(0.1 -0.1)\">\n       <use xlink:href=\"#LiberationSans-48\"/>\n       <use x=\"55.615234\" xlink:href=\"#LiberationSans-46\"/>\n       <use x=\"83.398438\" xlink:href=\"#LiberationSans-56\"/>\n       <use x=\"139.013672\" xlink:href=\"#LiberationSans-48\"/>\n       <use x=\"194.628906\" xlink:href=\"#LiberationSans-48\"/>\n      </g>\n     </g>\n    </g>\n    <g id=\"ytick_7\">\n     <g id=\"line2d_25\">\n      <path clip-path=\"url(#p4452e71ff8)\" d=\"M 39.221875 19.047416 \nL 374.021875 19.047416 \n\" style=\"fill:none;stroke:#ffffff;stroke-linecap:round;\"/>\n     </g>\n     <g id=\"line2d_26\"/>\n     <g id=\"text_13\">\n      <!-- 0.825 -->\n      <g style=\"fill:#262626;\" transform=\"translate(7.2 22.670853)scale(0.1 -0.1)\">\n       <use xlink:href=\"#LiberationSans-48\"/>\n       <use x=\"55.615234\" xlink:href=\"#LiberationSans-46\"/>\n       <use x=\"83.398438\" xlink:href=\"#LiberationSans-56\"/>\n       <use x=\"139.013672\" xlink:href=\"#LiberationSans-50\"/>\n       <use x=\"194.628906\" xlink:href=\"#LiberationSans-53\"/>\n      </g>\n     </g>\n    </g>\n   </g>\n   <g id=\"line2d_27\">\n    <path clip-path=\"url(#p4452e71ff8)\" d=\"M 54.440057 214.756364 \nL 57.514437 112.528858 \nL 60.588817 99.334235 \nL 63.663197 76.891043 \nL 66.737577 66.779275 \nL 69.811958 63.819733 \nL 72.886338 61.476763 \nL 75.960718 53.584652 \nL 79.035098 45.939169 \nL 82.109478 46.802368 \nL 85.183858 43.966141 \nL 88.258239 38.663628 \nL 91.332619 41.499856 \nL 94.406999 30.031632 \nL 97.481379 35.704087 \nL 100.555759 37.307172 \nL 103.630139 30.401574 \nL 106.70452 37.060543 \nL 109.7789 33.114488 \nL 112.85328 25.34569 \nL 115.92766 29.168432 \nL 119.00204 30.154946 \nL 122.07642 29.785003 \nL 125.150801 25.715633 \nL 128.225181 32.374602 \nL 131.299561 26.702147 \nL 134.373941 26.578833 \nL 137.448321 26.948776 \nL 140.522701 35.087515 \nL 143.597082 30.27826 \nL 146.671462 28.305232 \nL 149.745842 22.756091 \nL 152.820222 28.428546 \nL 155.894602 29.41506 \nL 158.968982 25.099062 \nL 162.043363 22.016206 \nL 165.117743 21.276321 \nL 168.192123 28.798489 \nL 171.266503 26.20889 \nL 174.340883 30.154946 \nL 177.415263 32.744545 \nL 180.489644 23.86592 \nL 183.564024 25.838947 \nL 186.638404 21.399635 \nL 189.712784 23.619291 \nL 192.787164 30.524889 \nL 195.861544 28.181918 \nL 198.935925 19.303293 \nL 202.010305 30.401574 \nL 205.084685 19.426607 \nL 208.159065 27.688661 \nL 211.233445 28.428546 \nL 214.307825 25.099062 \nL 217.382206 26.20889 \nL 220.456586 22.016206 \nL 223.530966 18.193465 \nL 226.605346 24.235862 \nL 229.679726 25.715633 \nL 232.754106 17.083636 \nL 235.828487 26.455519 \nL 238.902867 24.112548 \nL 241.977247 22.13952 \nL 245.051627 26.948776 \nL 248.126007 20.413121 \nL 251.200387 20.413121 \nL 254.274768 18.93335 \nL 257.349148 20.536435 \nL 260.423528 22.386149 \nL 263.497908 23.989234 \nL 266.572288 19.303293 \nL 269.646668 28.305232 \nL 272.721049 21.769577 \nL 275.795429 21.522949 \nL 278.869809 27.195404 \nL 281.944189 23.249348 \nL 285.018569 27.811975 \nL 288.092949 17.083636 \nL 291.16733 23.126034 \nL 294.24171 21.153006 \nL 297.31609 26.085576 \nL 300.39047 25.099062 \nL 303.46485 21.399635 \nL 306.53923 24.359177 \nL 309.613611 22.632777 \nL 312.687991 18.193465 \nL 315.762371 18.686721 \nL 318.836751 23.495977 \nL 321.911131 19.549921 \nL 324.985511 22.13952 \nL 328.059892 17.946836 \nL 331.134272 18.07015 \nL 334.208652 21.892892 \nL 337.283032 25.469005 \nL 340.357412 20.166492 \nL 343.431792 24.975748 \nL 346.506173 24.975748 \nL 349.580553 32.251288 \nL 352.654933 22.509463 \nL 355.729313 24.975748 \nL 358.803693 23.126034 \n\" style=\"fill:none;stroke:#4c72b0;stroke-linecap:round;stroke-width:1.75;\"/>\n   </g>\n   <g id=\"line2d_28\">\n    <path clip-path=\"url(#p4452e71ff8)\" d=\"M 54.440057 119.648949 \nL 57.514437 92.029457 \nL 60.588817 71.808043 \nL 63.663197 87.59061 \nL 66.737577 65.396376 \nL 69.811958 58.984708 \nL 72.886338 67.862402 \nL 75.960718 57.505092 \nL 79.035098 57.505092 \nL 82.109478 54.545861 \nL 85.183858 57.505092 \nL 88.258239 54.052656 \nL 91.332619 45.174962 \nL 94.406999 48.134193 \nL 97.481379 47.147783 \nL 100.555759 50.600219 \nL 103.630139 39.749704 \nL 106.70452 39.749704 \nL 109.7789 56.025477 \nL 112.85328 38.270089 \nL 115.92766 41.22932 \nL 119.00204 35.310858 \nL 122.07642 35.310858 \nL 125.150801 32.351626 \nL 128.225181 39.749704 \nL 131.299561 34.324447 \nL 134.373941 44.188551 \nL 137.448321 39.256499 \nL 140.522701 32.844832 \nL 143.597082 39.749704 \nL 146.671462 32.351626 \nL 149.745842 31.365216 \nL 152.820222 29.392395 \nL 155.894602 38.763294 \nL 158.968982 30.378805 \nL 162.043363 38.270089 \nL 165.117743 42.215731 \nL 168.192123 33.338037 \nL 171.266503 31.858421 \nL 174.340883 31.858421 \nL 177.415263 36.790473 \nL 180.489644 34.324447 \nL 183.564024 34.817652 \nL 186.638404 29.8856 \nL 189.712784 34.324447 \nL 192.787164 38.763294 \nL 195.861544 30.872011 \nL 198.935925 31.858421 \nL 202.010305 26.926369 \nL 205.084685 27.419574 \nL 208.159065 29.8856 \nL 211.233445 36.297268 \nL 214.307825 28.89919 \nL 217.382206 30.378805 \nL 220.456586 29.8856 \nL 223.530966 34.324447 \nL 226.605346 32.351626 \nL 229.679726 30.378805 \nL 232.754106 34.324447 \nL 235.828487 30.378805 \nL 238.902867 39.749704 \nL 241.977247 36.297268 \nL 245.051627 31.365216 \nL 248.126007 36.297268 \nL 251.200387 34.324447 \nL 254.274768 30.378805 \nL 257.349148 31.365216 \nL 260.423528 29.8856 \nL 263.497908 34.324447 \nL 266.572288 39.256499 \nL 269.646668 29.8856 \nL 272.721049 29.392395 \nL 275.795429 30.378805 \nL 278.869809 32.844832 \nL 281.944189 30.872011 \nL 285.018569 35.310858 \nL 288.092949 30.872011 \nL 291.16733 30.378805 \nL 294.24171 28.405985 \nL 297.31609 32.351626 \nL 300.39047 30.378805 \nL 303.46485 37.283678 \nL 306.53923 33.338037 \nL 309.613611 37.776884 \nL 312.687991 41.22932 \nL 315.762371 33.338037 \nL 318.836751 31.365216 \nL 321.911131 31.858421 \nL 324.985511 35.310858 \nL 328.059892 32.844832 \nL 331.134272 32.351626 \nL 334.208652 31.858421 \nL 337.283032 31.858421 \nL 340.357412 32.351626 \nL 343.431792 31.365216 \nL 346.506173 31.858421 \nL 349.580553 34.817652 \nL 352.654933 28.89919 \nL 355.729313 34.817652 \nL 358.803693 34.324447 \n\" style=\"fill:none;stroke:#55a868;stroke-linecap:round;stroke-width:1.75;\"/>\n   </g>\n   <g id=\"patch_3\">\n    <path d=\"M 39.221875 224.64 \nL 39.221875 7.2 \n\" style=\"fill:none;\"/>\n   </g>\n   <g id=\"patch_4\">\n    <path d=\"M 374.021875 224.64 \nL 374.021875 7.2 \n\" style=\"fill:none;\"/>\n   </g>\n   <g id=\"patch_5\">\n    <path d=\"M 39.221875 224.64 \nL 374.021875 224.64 \n\" style=\"fill:none;\"/>\n   </g>\n   <g id=\"patch_6\">\n    <path d=\"M 39.221875 7.2 \nL 374.021875 7.2 \n\" style=\"fill:none;\"/>\n   </g>\n  </g>\n </g>\n <defs>\n  <clipPath id=\"p4452e71ff8\">\n   <rect height=\"217.44\" width=\"334.8\" x=\"39.221875\" y=\"7.2\"/>\n  </clipPath>\n </defs>\n</svg>\n"
          },
          "metadata": {
            "tags": [],
            "needs_background": "light"
          }
        }
      ]
    },
    {
      "cell_type": "code",
      "metadata": {
        "colab": {
          "base_uri": "https://localhost:8080/"
        },
        "id": "Di_2tGBlQoyM",
        "outputId": "fe309c38-2c9f-4a98-b0e4-ba26128bad40"
      },
      "source": [
        "# lets exemplify how the classifier works by applying it to a couple of documents\n",
        "clf.predict(['i dislike this book !', ' i hate this awful toaster !'])"
      ],
      "execution_count": null,
      "outputs": [
        {
          "output_type": "execute_result",
          "data": {
            "text/plain": [
              "['neg', 'neg']"
            ]
          },
          "metadata": {
            "tags": []
          },
          "execution_count": 13
        }
      ]
    },
    {
      "cell_type": "code",
      "metadata": {
        "id": "6HO367KMSDpk"
      },
      "source": [
        "# Now we will implement ir using a CBoW approach. As opposed to BoW, CBoW entails learned representation.\n",
        "\n",
        "class CBoWEncoder(nn.Module):\n",
        "  \n",
        "  def __init__(self, voc_size, emb_dim):\n",
        "    super().__init__()\n",
        "    self.embedding = nn.Embedding(voc_size, emb_dim)\n",
        "\n",
        "  def forward(self, X):\n",
        "    # X is a document tensor with shape (n_docs, n_words)\n",
        "\n",
        "    embedded = self.embedding(X)\n",
        "\n",
        "    # We now have a tensor with embeddings of the words in the documents.\n",
        "    # This tensor has the shape (n_docs, n_words, emd_dim)\n",
        "    # We compute the mean over the second dimension (the words in each document).\n",
        "\n",
        "    return embedded.mean(dim=1)"
      ],
      "execution_count": null,
      "outputs": []
    },
    {
      "cell_type": "code",
      "metadata": {
        "colab": {
          "base_uri": "https://localhost:8080/",
          "height": 857
        },
        "id": "zEpUoTNfjENL",
        "outputId": "049e371f-ccae-4ffd-8296-68f15c877cbb"
      },
      "source": [
        "# We rewrirte the main function that trains the classifier in an almost identiacal fashion\n",
        "# We make small tweaks\n",
        "\n",
        "class TextClassifierParameters:\n",
        "  device = 'cuda'\n",
        "\n",
        "  max_voc_size = None\n",
        "\n",
        "  n_epochs = 50\n",
        "  batch_size = 64\n",
        "\n",
        "  eta = 3e-3\n",
        "  decay = 1e-6\n",
        "  dropout = 0.2\n",
        "\n",
        "  emb_dim = 16\n",
        "\n",
        "def main_cbow():\n",
        "  global clf\n",
        "\n",
        "  torch.manual_seed(0)\n",
        "\n",
        "  X, Y = read_data('data/all_sentiment_shuffled.txt', use_sentiment=True)\n",
        "\n",
        "  params = TextClassifierParameters()\n",
        "\n",
        "  clf = TextClassifier(params)\n",
        "\n",
        "  clf.preprocess(X, Y)\n",
        "\n",
        "  # Create a classification model: a continous bag-of-words representation with a linear classifier\n",
        "  # on top, and dropout to reduce overfitting.\n",
        "\n",
        "  clf.set_model(nn.Sequential(\n",
        "          CBoWEncoder(clf.voc_size, params.emb_dim),\n",
        "          nn.Dropout(params.dropout),\n",
        "          nn.Linear(in_features=params.emb_dim, out_features=clf.n_classes)\n",
        "  ))\n",
        "\n",
        "  clf.train()\n",
        "\n",
        "  plt.figure()\n",
        "  plt.plot(clf.history['train_loss'])\n",
        "  plt.plot(clf.history['val_loss'])\n",
        "\n",
        "\n",
        "  plt.figure()\n",
        "  plt.plot(clf.history['train_acc'])\n",
        "  plt.plot(clf.history['val_acc'])\n",
        "\n",
        "main_cbow()"
      ],
      "execution_count": null,
      "outputs": [
        {
          "output_type": "stream",
          "text": [
            "Epoch 5: train loss:0.6728, train acc: 0.6088,val loss: 0.6690, val acc: 0.6118, time: 0.9494\n",
            "Epoch 10: train loss:0.5316, train acc: 0.7997,val loss: 0.5571, val acc: 0.7625, time: 0.9542\n",
            "Epoch 15: train loss:0.4181, train acc: 0.8597,val loss: 0.4838, val acc: 0.8015, time: 0.9324\n",
            "Epoch 20: train loss:0.3471, train acc: 0.8888,val loss: 0.4461, val acc: 0.8254, time: 0.8862\n",
            "Epoch 25: train loss:0.2873, train acc: 0.9109,val loss: 0.4381, val acc: 0.8347, time: 0.8865\n",
            "Epoch 30: train loss:0.2438, train acc: 0.9337,val loss: 0.4090, val acc: 0.8271, time: 0.8934\n",
            "Epoch 35: train loss:0.2120, train acc: 0.9412,val loss: 0.4146, val acc: 0.8317, time: 0.9118\n",
            "Epoch 40: train loss:0.1832, train acc: 0.9541,val loss: 0.4198, val acc: 0.8372, time: 0.8856\n",
            "Epoch 45: train loss:0.1601, train acc: 0.9591,val loss: 0.4344, val acc: 0.8175, time: 0.9011\n",
            "Epoch 50: train loss:0.1404, train acc: 0.9684,val loss: 0.4656, val acc: 0.8334, time: 0.8954\n"
          ],
          "name": "stdout"
        },
        {
          "output_type": "display_data",
          "data": {
            "text/plain": [
              "<Figure size 432x288 with 1 Axes>"
            ],
            "image/svg+xml": "<?xml version=\"1.0\" encoding=\"utf-8\" standalone=\"no\"?>\n<!DOCTYPE svg PUBLIC \"-//W3C//DTD SVG 1.1//EN\"\n  \"http://www.w3.org/Graphics/SVG/1.1/DTD/svg11.dtd\">\n<!-- Created with matplotlib (https://matplotlib.org/) -->\n<svg height=\"248.161875pt\" version=\"1.1\" viewBox=\"0 0 370.1 248.161875\" width=\"370.1pt\" xmlns=\"http://www.w3.org/2000/svg\" xmlns:xlink=\"http://www.w3.org/1999/xlink\">\n <defs>\n  <style type=\"text/css\">\n*{stroke-linecap:butt;stroke-linejoin:round;}\n  </style>\n </defs>\n <g id=\"figure_1\">\n  <g id=\"patch_1\">\n   <path d=\"M 0 248.161875 \nL 370.1 248.161875 \nL 370.1 0 \nL 0 0 \nz\n\" style=\"fill:none;\"/>\n  </g>\n  <g id=\"axes_1\">\n   <g id=\"patch_2\">\n    <path d=\"M 28.1 224.64 \nL 362.9 224.64 \nL 362.9 7.2 \nL 28.1 7.2 \nz\n\" style=\"fill:#eaeaf2;\"/>\n   </g>\n   <g id=\"matplotlib.axis_1\">\n    <g id=\"xtick_1\">\n     <g id=\"line2d_1\">\n      <path clip-path=\"url(#pb60cd61975)\" d=\"M 43.318182 224.64 \nL 43.318182 7.2 \n\" style=\"fill:none;stroke:#ffffff;stroke-linecap:round;\"/>\n     </g>\n     <g id=\"line2d_2\"/>\n     <g id=\"text_1\">\n      <!-- 0 -->\n      <defs>\n       <path d=\"M 51.703125 34.421875 \nQ 51.703125 24.515625 49.828125 17.75 \nQ 47.953125 10.984375 44.703125 6.8125 \nQ 41.453125 2.640625 37.0625 0.828125 \nQ 32.671875 -0.984375 27.6875 -0.984375 \nQ 22.65625 -0.984375 18.3125 0.828125 \nQ 13.96875 2.640625 10.765625 6.78125 \nQ 7.5625 10.9375 5.734375 17.703125 \nQ 3.90625 24.46875 3.90625 34.421875 \nQ 3.90625 44.828125 5.734375 51.640625 \nQ 7.5625 58.453125 10.78125 62.5 \nQ 14.015625 66.546875 18.40625 68.1875 \nQ 22.796875 69.828125 27.984375 69.828125 \nQ 32.90625 69.828125 37.21875 68.1875 \nQ 41.546875 66.546875 44.765625 62.5 \nQ 48 58.453125 49.84375 51.640625 \nQ 51.703125 44.828125 51.703125 34.421875 \nz\nM 42.78125 34.421875 \nQ 42.78125 42.625 41.796875 48.0625 \nQ 40.828125 53.515625 38.921875 56.765625 \nQ 37.015625 60.015625 34.25 61.359375 \nQ 31.5 62.703125 27.984375 62.703125 \nQ 24.265625 62.703125 21.4375 61.328125 \nQ 18.609375 59.96875 16.671875 56.71875 \nQ 14.75 53.46875 13.765625 48.015625 \nQ 12.796875 42.578125 12.796875 34.421875 \nQ 12.796875 26.515625 13.796875 21.09375 \nQ 14.796875 15.671875 16.71875 12.375 \nQ 18.65625 9.078125 21.4375 7.640625 \nQ 24.21875 6.203125 27.78125 6.203125 \nQ 31.25 6.203125 34.03125 7.640625 \nQ 36.8125 9.078125 38.734375 12.375 \nQ 40.671875 15.671875 41.71875 21.09375 \nQ 42.78125 26.515625 42.78125 34.421875 \nz\n\" id=\"LiberationSans-48\"/>\n      </defs>\n      <g style=\"fill:#262626;\" transform=\"translate(40.537713 238.886875)scale(0.1 -0.1)\">\n       <use xlink:href=\"#LiberationSans-48\"/>\n      </g>\n     </g>\n    </g>\n    <g id=\"xtick_2\">\n     <g id=\"line2d_3\">\n      <path clip-path=\"url(#pb60cd61975)\" d=\"M 105.43321 224.64 \nL 105.43321 7.2 \n\" style=\"fill:none;stroke:#ffffff;stroke-linecap:round;\"/>\n     </g>\n     <g id=\"line2d_4\"/>\n     <g id=\"text_2\">\n      <!-- 10 -->\n      <defs>\n       <path d=\"M 7.625 0 \nL 7.625 7.46875 \nL 25.140625 7.46875 \nL 25.140625 60.40625 \nL 9.625 49.3125 \nL 9.625 57.625 \nL 25.875 68.796875 \nL 33.984375 68.796875 \nL 33.984375 7.46875 \nL 50.734375 7.46875 \nL 50.734375 0 \nz\n\" id=\"LiberationSans-49\"/>\n      </defs>\n      <g style=\"fill:#262626;\" transform=\"translate(99.872272 238.886875)scale(0.1 -0.1)\">\n       <use xlink:href=\"#LiberationSans-49\"/>\n       <use x=\"55.615234\" xlink:href=\"#LiberationSans-48\"/>\n      </g>\n     </g>\n    </g>\n    <g id=\"xtick_3\">\n     <g id=\"line2d_5\">\n      <path clip-path=\"url(#pb60cd61975)\" d=\"M 167.548237 224.64 \nL 167.548237 7.2 \n\" style=\"fill:none;stroke:#ffffff;stroke-linecap:round;\"/>\n     </g>\n     <g id=\"line2d_6\"/>\n     <g id=\"text_3\">\n      <!-- 20 -->\n      <defs>\n       <path d=\"M 5.03125 0 \nL 5.03125 6.203125 \nQ 7.515625 11.921875 11.109375 16.28125 \nQ 14.703125 20.65625 18.65625 24.1875 \nQ 22.609375 27.734375 26.484375 30.765625 \nQ 30.375 33.796875 33.5 36.8125 \nQ 36.625 39.84375 38.546875 43.15625 \nQ 40.484375 46.484375 40.484375 50.6875 \nQ 40.484375 53.609375 39.59375 55.828125 \nQ 38.71875 58.0625 37.0625 59.5625 \nQ 35.40625 61.078125 33.078125 61.828125 \nQ 30.765625 62.59375 27.9375 62.59375 \nQ 25.296875 62.59375 22.96875 61.859375 \nQ 20.65625 61.140625 18.84375 59.671875 \nQ 17.046875 58.203125 15.890625 56.03125 \nQ 14.75 53.859375 14.40625 50.984375 \nL 5.421875 51.8125 \nQ 5.859375 55.515625 7.46875 58.78125 \nQ 9.078125 62.0625 11.90625 64.53125 \nQ 14.75 67 18.71875 68.40625 \nQ 22.703125 69.828125 27.9375 69.828125 \nQ 33.0625 69.828125 37.0625 68.609375 \nQ 41.0625 67.390625 43.8125 64.984375 \nQ 46.578125 62.59375 48.046875 59.078125 \nQ 49.515625 55.5625 49.515625 50.984375 \nQ 49.515625 47.515625 48.265625 44.390625 \nQ 47.015625 41.265625 44.9375 38.421875 \nQ 42.875 35.59375 40.140625 32.953125 \nQ 37.40625 30.328125 34.421875 27.8125 \nQ 31.453125 25.296875 28.421875 22.828125 \nQ 25.390625 20.359375 22.71875 17.859375 \nQ 20.0625 15.375 17.96875 12.8125 \nQ 15.875 10.25 14.703125 7.46875 \nL 50.59375 7.46875 \nL 50.59375 0 \nz\n\" id=\"LiberationSans-50\"/>\n      </defs>\n      <g style=\"fill:#262626;\" transform=\"translate(161.9873 238.886875)scale(0.1 -0.1)\">\n       <use xlink:href=\"#LiberationSans-50\"/>\n       <use x=\"55.615234\" xlink:href=\"#LiberationSans-48\"/>\n      </g>\n     </g>\n    </g>\n    <g id=\"xtick_4\">\n     <g id=\"line2d_7\">\n      <path clip-path=\"url(#pb60cd61975)\" d=\"M 229.663265 224.64 \nL 229.663265 7.2 \n\" style=\"fill:none;stroke:#ffffff;stroke-linecap:round;\"/>\n     </g>\n     <g id=\"line2d_8\"/>\n     <g id=\"text_4\">\n      <!-- 30 -->\n      <defs>\n       <path d=\"M 51.21875 19 \nQ 51.21875 14.265625 49.671875 10.546875 \nQ 48.140625 6.84375 45.1875 4.265625 \nQ 42.234375 1.703125 37.859375 0.359375 \nQ 33.5 -0.984375 27.875 -0.984375 \nQ 21.484375 -0.984375 17.109375 0.609375 \nQ 12.75 2.203125 9.90625 4.8125 \nQ 7.078125 7.421875 5.65625 10.765625 \nQ 4.25 14.109375 3.8125 17.671875 \nL 12.890625 18.5 \nQ 13.28125 15.765625 14.328125 13.515625 \nQ 15.375 11.28125 17.1875 9.671875 \nQ 19 8.0625 21.625 7.171875 \nQ 24.265625 6.296875 27.875 6.296875 \nQ 34.515625 6.296875 38.296875 9.5625 \nQ 42.09375 12.84375 42.09375 19.28125 \nQ 42.09375 23.09375 40.40625 25.40625 \nQ 38.71875 27.734375 36.203125 29.03125 \nQ 33.6875 30.328125 30.734375 30.765625 \nQ 27.78125 31.203125 25.296875 31.203125 \nL 20.3125 31.203125 \nL 20.3125 38.8125 \nL 25.09375 38.8125 \nQ 27.59375 38.8125 30.265625 39.328125 \nQ 32.953125 39.84375 35.171875 41.1875 \nQ 37.40625 42.53125 38.84375 44.828125 \nQ 40.28125 47.125 40.28125 50.6875 \nQ 40.28125 56.203125 37.03125 59.390625 \nQ 33.796875 62.59375 27.390625 62.59375 \nQ 21.578125 62.59375 17.984375 59.609375 \nQ 14.40625 56.640625 13.8125 51.21875 \nL 4.984375 51.90625 \nQ 5.515625 56.453125 7.46875 59.8125 \nQ 9.421875 63.1875 12.421875 65.40625 \nQ 15.4375 67.625 19.28125 68.71875 \nQ 23.140625 69.828125 27.484375 69.828125 \nQ 33.25 69.828125 37.390625 68.375 \nQ 41.546875 66.9375 44.1875 64.46875 \nQ 46.828125 62.015625 48.0625 58.6875 \nQ 49.3125 55.375 49.3125 51.609375 \nQ 49.3125 48.578125 48.484375 45.9375 \nQ 47.65625 43.3125 45.890625 41.203125 \nQ 44.140625 39.109375 41.421875 37.59375 \nQ 38.71875 36.078125 34.90625 35.296875 \nL 34.90625 35.109375 \nQ 39.0625 34.671875 42.140625 33.21875 \nQ 45.21875 31.78125 47.21875 29.625 \nQ 49.21875 27.484375 50.21875 24.75 \nQ 51.21875 22.015625 51.21875 19 \nz\n\" id=\"LiberationSans-51\"/>\n      </defs>\n      <g style=\"fill:#262626;\" transform=\"translate(224.102328 238.886875)scale(0.1 -0.1)\">\n       <use xlink:href=\"#LiberationSans-51\"/>\n       <use x=\"55.615234\" xlink:href=\"#LiberationSans-48\"/>\n      </g>\n     </g>\n    </g>\n    <g id=\"xtick_5\">\n     <g id=\"line2d_9\">\n      <path clip-path=\"url(#pb60cd61975)\" d=\"M 291.778293 224.64 \nL 291.778293 7.2 \n\" style=\"fill:none;stroke:#ffffff;stroke-linecap:round;\"/>\n     </g>\n     <g id=\"line2d_10\"/>\n     <g id=\"text_5\">\n      <!-- 40 -->\n      <defs>\n       <path d=\"M 43.015625 15.578125 \nL 43.015625 0 \nL 34.71875 0 \nL 34.71875 15.578125 \nL 2.296875 15.578125 \nL 2.296875 22.40625 \nL 33.796875 68.796875 \nL 43.015625 68.796875 \nL 43.015625 22.515625 \nL 52.6875 22.515625 \nL 52.6875 15.578125 \nz\nM 34.71875 58.890625 \nQ 34.625 58.640625 34.234375 57.9375 \nQ 33.84375 57.234375 33.34375 56.34375 \nQ 32.859375 55.46875 32.34375 54.5625 \nQ 31.84375 53.65625 31.453125 53.078125 \nL 13.8125 27.09375 \nQ 13.578125 26.703125 13.109375 26.0625 \nQ 12.640625 25.4375 12.15625 24.78125 \nQ 11.671875 24.125 11.171875 23.484375 \nQ 10.6875 22.859375 10.40625 22.515625 \nL 34.71875 22.515625 \nz\n\" id=\"LiberationSans-52\"/>\n      </defs>\n      <g style=\"fill:#262626;\" transform=\"translate(286.217356 238.886875)scale(0.1 -0.1)\">\n       <use xlink:href=\"#LiberationSans-52\"/>\n       <use x=\"55.615234\" xlink:href=\"#LiberationSans-48\"/>\n      </g>\n     </g>\n    </g>\n    <g id=\"xtick_6\">\n     <g id=\"line2d_11\">\n      <path clip-path=\"url(#pb60cd61975)\" d=\"M 353.893321 224.64 \nL 353.893321 7.2 \n\" style=\"fill:none;stroke:#ffffff;stroke-linecap:round;\"/>\n     </g>\n     <g id=\"line2d_12\"/>\n     <g id=\"text_6\">\n      <!-- 50 -->\n      <defs>\n       <path d=\"M 51.421875 22.40625 \nQ 51.421875 17.234375 49.859375 12.9375 \nQ 48.296875 8.640625 45.21875 5.53125 \nQ 42.140625 2.4375 37.578125 0.71875 \nQ 33.015625 -0.984375 27 -0.984375 \nQ 21.578125 -0.984375 17.546875 0.28125 \nQ 13.53125 1.5625 10.734375 3.78125 \nQ 7.953125 6 6.3125 8.984375 \nQ 4.6875 11.96875 4 15.375 \nL 12.890625 16.40625 \nQ 13.421875 14.453125 14.390625 12.625 \nQ 15.375 10.796875 17.0625 9.34375 \nQ 18.75 7.90625 21.21875 7.046875 \nQ 23.6875 6.203125 27.203125 6.203125 \nQ 30.609375 6.203125 33.390625 7.25 \nQ 36.1875 8.296875 38.15625 10.34375 \nQ 40.140625 12.40625 41.203125 15.375 \nQ 42.28125 18.359375 42.28125 22.21875 \nQ 42.28125 25.390625 41.25 28.046875 \nQ 40.234375 30.71875 38.328125 32.640625 \nQ 36.421875 34.578125 33.65625 35.640625 \nQ 30.90625 36.71875 27.390625 36.71875 \nQ 25.203125 36.71875 23.34375 36.328125 \nQ 21.484375 35.9375 19.890625 35.25 \nQ 18.3125 34.578125 17.015625 33.671875 \nQ 15.71875 32.765625 14.59375 31.78125 \nL 6 31.78125 \nL 8.296875 68.796875 \nL 47.40625 68.796875 \nL 47.40625 61.328125 \nL 16.3125 61.328125 \nL 14.984375 39.5 \nQ 17.328125 41.3125 20.84375 42.59375 \nQ 24.359375 43.890625 29.203125 43.890625 \nQ 34.328125 43.890625 38.421875 42.328125 \nQ 42.53125 40.765625 45.40625 37.90625 \nQ 48.296875 35.0625 49.859375 31.109375 \nQ 51.421875 27.15625 51.421875 22.40625 \nz\n\" id=\"LiberationSans-53\"/>\n      </defs>\n      <g style=\"fill:#262626;\" transform=\"translate(348.332383 238.886875)scale(0.1 -0.1)\">\n       <use xlink:href=\"#LiberationSans-53\"/>\n       <use x=\"55.615234\" xlink:href=\"#LiberationSans-48\"/>\n      </g>\n     </g>\n    </g>\n   </g>\n   <g id=\"matplotlib.axis_2\">\n    <g id=\"ytick_1\">\n     <g id=\"line2d_13\">\n      <path clip-path=\"url(#pb60cd61975)\" d=\"M 28.1 193.595866 \nL 362.9 193.595866 \n\" style=\"fill:none;stroke:#ffffff;stroke-linecap:round;\"/>\n     </g>\n     <g id=\"line2d_14\"/>\n     <g id=\"text_7\">\n      <!-- 0.2 -->\n      <defs>\n       <path d=\"M 9.125 0 \nL 9.125 10.6875 \nL 18.65625 10.6875 \nL 18.65625 0 \nz\n\" id=\"LiberationSans-46\"/>\n      </defs>\n      <g style=\"fill:#262626;\" transform=\"translate(7.2 197.219303)scale(0.1 -0.1)\">\n       <use xlink:href=\"#LiberationSans-48\"/>\n       <use x=\"55.615234\" xlink:href=\"#LiberationSans-46\"/>\n       <use x=\"83.398438\" xlink:href=\"#LiberationSans-50\"/>\n      </g>\n     </g>\n    </g>\n    <g id=\"ytick_2\">\n     <g id=\"line2d_15\">\n      <path clip-path=\"url(#pb60cd61975)\" d=\"M 28.1 158.092762 \nL 362.9 158.092762 \n\" style=\"fill:none;stroke:#ffffff;stroke-linecap:round;\"/>\n     </g>\n     <g id=\"line2d_16\"/>\n     <g id=\"text_8\">\n      <!-- 0.3 -->\n      <g style=\"fill:#262626;\" transform=\"translate(7.2 161.7162)scale(0.1 -0.1)\">\n       <use xlink:href=\"#LiberationSans-48\"/>\n       <use x=\"55.615234\" xlink:href=\"#LiberationSans-46\"/>\n       <use x=\"83.398438\" xlink:href=\"#LiberationSans-51\"/>\n      </g>\n     </g>\n    </g>\n    <g id=\"ytick_3\">\n     <g id=\"line2d_17\">\n      <path clip-path=\"url(#pb60cd61975)\" d=\"M 28.1 122.589659 \nL 362.9 122.589659 \n\" style=\"fill:none;stroke:#ffffff;stroke-linecap:round;\"/>\n     </g>\n     <g id=\"line2d_18\"/>\n     <g id=\"text_9\">\n      <!-- 0.4 -->\n      <g style=\"fill:#262626;\" transform=\"translate(7.2 126.213096)scale(0.1 -0.1)\">\n       <use xlink:href=\"#LiberationSans-48\"/>\n       <use x=\"55.615234\" xlink:href=\"#LiberationSans-46\"/>\n       <use x=\"83.398438\" xlink:href=\"#LiberationSans-52\"/>\n      </g>\n     </g>\n    </g>\n    <g id=\"ytick_4\">\n     <g id=\"line2d_19\">\n      <path clip-path=\"url(#pb60cd61975)\" d=\"M 28.1 87.086555 \nL 362.9 87.086555 \n\" style=\"fill:none;stroke:#ffffff;stroke-linecap:round;\"/>\n     </g>\n     <g id=\"line2d_20\"/>\n     <g id=\"text_10\">\n      <!-- 0.5 -->\n      <g style=\"fill:#262626;\" transform=\"translate(7.2 90.709993)scale(0.1 -0.1)\">\n       <use xlink:href=\"#LiberationSans-48\"/>\n       <use x=\"55.615234\" xlink:href=\"#LiberationSans-46\"/>\n       <use x=\"83.398438\" xlink:href=\"#LiberationSans-53\"/>\n      </g>\n     </g>\n    </g>\n    <g id=\"ytick_5\">\n     <g id=\"line2d_21\">\n      <path clip-path=\"url(#pb60cd61975)\" d=\"M 28.1 51.583452 \nL 362.9 51.583452 \n\" style=\"fill:none;stroke:#ffffff;stroke-linecap:round;\"/>\n     </g>\n     <g id=\"line2d_22\"/>\n     <g id=\"text_11\">\n      <!-- 0.6 -->\n      <defs>\n       <path d=\"M 51.21875 22.515625 \nQ 51.21875 17.328125 49.78125 13 \nQ 48.34375 8.6875 45.53125 5.578125 \nQ 42.71875 2.484375 38.5625 0.75 \nQ 34.421875 -0.984375 29 -0.984375 \nQ 23 -0.984375 18.5 1.3125 \nQ 14.015625 3.609375 11.03125 7.921875 \nQ 8.0625 12.25 6.5625 18.53125 \nQ 5.078125 24.8125 5.078125 32.8125 \nQ 5.078125 42 6.765625 48.921875 \nQ 8.453125 55.859375 11.625 60.5 \nQ 14.796875 65.140625 19.359375 67.484375 \nQ 23.921875 69.828125 29.6875 69.828125 \nQ 33.203125 69.828125 36.28125 69.09375 \nQ 39.359375 68.359375 41.875 66.71875 \nQ 44.390625 65.09375 46.28125 62.40625 \nQ 48.1875 59.71875 49.3125 55.8125 \nL 40.921875 54.296875 \nQ 39.546875 58.734375 36.546875 60.71875 \nQ 33.546875 62.703125 29.59375 62.703125 \nQ 25.984375 62.703125 23.046875 60.984375 \nQ 20.125 59.28125 18.0625 55.875 \nQ 16.015625 52.484375 14.90625 47.359375 \nQ 13.8125 42.234375 13.8125 35.40625 \nQ 16.21875 39.84375 20.5625 42.15625 \nQ 24.90625 44.484375 30.515625 44.484375 \nQ 35.203125 44.484375 39.015625 42.96875 \nQ 42.828125 41.453125 45.53125 38.59375 \nQ 48.25 35.75 49.734375 31.671875 \nQ 51.21875 27.59375 51.21875 22.515625 \nz\nM 42.28125 22.125 \nQ 42.28125 25.6875 41.40625 28.5625 \nQ 40.53125 31.453125 38.765625 33.46875 \nQ 37.015625 35.5 34.421875 36.59375 \nQ 31.84375 37.703125 28.421875 37.703125 \nQ 26.03125 37.703125 23.578125 36.984375 \nQ 21.140625 36.28125 19.15625 34.6875 \nQ 17.1875 33.109375 15.9375 30.515625 \nQ 14.703125 27.9375 14.703125 24.21875 \nQ 14.703125 20.40625 15.671875 17.109375 \nQ 16.65625 13.8125 18.484375 11.375 \nQ 20.3125 8.9375 22.890625 7.515625 \nQ 25.484375 6.109375 28.71875 6.109375 \nQ 31.890625 6.109375 34.40625 7.203125 \nQ 36.921875 8.296875 38.671875 10.375 \nQ 40.4375 12.453125 41.359375 15.421875 \nQ 42.28125 18.40625 42.28125 22.125 \nz\n\" id=\"LiberationSans-54\"/>\n      </defs>\n      <g style=\"fill:#262626;\" transform=\"translate(7.2 55.206889)scale(0.1 -0.1)\">\n       <use xlink:href=\"#LiberationSans-48\"/>\n       <use x=\"55.615234\" xlink:href=\"#LiberationSans-46\"/>\n       <use x=\"83.398438\" xlink:href=\"#LiberationSans-54\"/>\n      </g>\n     </g>\n    </g>\n    <g id=\"ytick_6\">\n     <g id=\"line2d_23\">\n      <path clip-path=\"url(#pb60cd61975)\" d=\"M 28.1 16.080348 \nL 362.9 16.080348 \n\" style=\"fill:none;stroke:#ffffff;stroke-linecap:round;\"/>\n     </g>\n     <g id=\"line2d_24\"/>\n     <g id=\"text_12\">\n      <!-- 0.7 -->\n      <defs>\n       <path d=\"M 50.59375 61.671875 \nQ 45.40625 53.765625 41.0625 46.453125 \nQ 36.71875 39.15625 33.59375 31.75 \nQ 30.46875 24.359375 28.734375 16.578125 \nQ 27 8.796875 27 0 \nL 17.828125 0 \nQ 17.828125 8.25 19.78125 16.1875 \nQ 21.734375 24.125 25.046875 31.765625 \nQ 28.375 39.40625 32.765625 46.78125 \nQ 37.15625 54.15625 42.09375 61.328125 \nL 5.125 61.328125 \nL 5.125 68.796875 \nL 50.59375 68.796875 \nz\n\" id=\"LiberationSans-55\"/>\n      </defs>\n      <g style=\"fill:#262626;\" transform=\"translate(7.2 19.703786)scale(0.1 -0.1)\">\n       <use xlink:href=\"#LiberationSans-48\"/>\n       <use x=\"55.615234\" xlink:href=\"#LiberationSans-46\"/>\n       <use x=\"83.398438\" xlink:href=\"#LiberationSans-55\"/>\n      </g>\n     </g>\n    </g>\n   </g>\n   <g id=\"line2d_25\">\n    <path clip-path=\"url(#pb60cd61975)\" d=\"M 43.318182 17.205257 \nL 49.529685 18.674513 \nL 55.741187 19.285872 \nL 61.95269 21.619235 \nL 68.164193 25.725816 \nL 74.375696 33.645536 \nL 80.587199 43.438296 \nL 86.798701 53.869533 \nL 93.010204 64.691438 \nL 99.221707 75.867453 \nL 105.43321 85.270849 \nL 111.644712 93.586176 \nL 117.856215 103.360998 \nL 124.067718 110.754875 \nL 130.279221 116.148934 \nL 136.490724 122.857001 \nL 142.702226 125.872652 \nL 148.913729 132.797117 \nL 155.125232 138.062145 \nL 161.336735 141.380361 \nL 167.548237 148.402475 \nL 173.75974 153.011729 \nL 179.971243 155.334785 \nL 186.182746 159.572308 \nL 192.394249 162.59365 \nL 198.605751 165.827415 \nL 204.817254 167.862982 \nL 211.028757 171.701774 \nL 217.24026 175.763818 \nL 223.451763 178.031515 \nL 229.663265 181.303151 \nL 235.874768 183.456796 \nL 242.086271 185.646026 \nL 248.297774 186.244424 \nL 254.509276 189.320625 \nL 260.720779 191.375973 \nL 266.932282 194.323007 \nL 273.143785 196.098656 \nL 279.355288 197.472707 \nL 285.56679 199.550792 \nL 291.778293 201.494349 \nL 297.989796 203.128191 \nL 304.201299 205.487596 \nL 310.412801 205.880027 \nL 316.624304 207.745874 \nL 322.835807 209.621759 \nL 329.04731 210.043519 \nL 335.258813 212.446732 \nL 341.470315 213.723256 \nL 347.681818 214.756364 \n\" style=\"fill:none;stroke:#4c72b0;stroke-linecap:round;stroke-width:1.75;\"/>\n   </g>\n   <g id=\"line2d_26\">\n    <path clip-path=\"url(#pb60cd61975)\" d=\"M 43.318182 18.873861 \nL 49.529685 17.083636 \nL 55.741187 20.1163 \nL 61.95269 23.312981 \nL 68.164193 27.089157 \nL 74.375696 33.745764 \nL 80.587199 41.61593 \nL 86.798701 50.465518 \nL 93.010204 58.812931 \nL 99.221707 66.809033 \nL 105.43321 72.622849 \nL 111.644712 78.882701 \nL 117.856215 84.228196 \nL 124.067718 89.594589 \nL 130.279221 92.853688 \nL 136.490724 93.143122 \nL 142.702226 96.064553 \nL 148.913729 95.478748 \nL 155.125232 102.428982 \nL 161.336735 106.218182 \nL 167.548237 102.075792 \nL 173.75974 106.500968 \nL 179.971243 108.554531 \nL 186.182746 112.543152 \nL 192.394249 109.063729 \nL 198.605751 116.201651 \nL 204.817254 115.294108 \nL 211.028757 113.995072 \nL 217.24026 118.541696 \nL 223.451763 119.40814 \nL 229.663265 109.940414 \nL 235.874768 121.86667 \nL 242.086271 110.801543 \nL 248.297774 112.034448 \nL 254.509276 117.422717 \nL 260.720779 120.370098 \nL 266.932282 118.554102 \nL 273.143785 111.250952 \nL 279.355288 106.411226 \nL 285.56679 115.577574 \nL 291.778293 113.526033 \nL 297.989796 113.376318 \nL 304.201299 118.178694 \nL 310.412801 106.366959 \nL 316.624304 110.365548 \nL 322.835807 106.871993 \nL 329.04731 110.488002 \nL 335.258813 117.678921 \nL 341.470315 105.992187 \nL 347.681818 99.315032 \n\" style=\"fill:none;stroke:#55a868;stroke-linecap:round;stroke-width:1.75;\"/>\n   </g>\n   <g id=\"patch_3\">\n    <path d=\"M 28.1 224.64 \nL 28.1 7.2 \n\" style=\"fill:none;\"/>\n   </g>\n   <g id=\"patch_4\">\n    <path d=\"M 362.9 224.64 \nL 362.9 7.2 \n\" style=\"fill:none;\"/>\n   </g>\n   <g id=\"patch_5\">\n    <path d=\"M 28.1 224.64 \nL 362.9 224.64 \n\" style=\"fill:none;\"/>\n   </g>\n   <g id=\"patch_6\">\n    <path d=\"M 28.1 7.2 \nL 362.9 7.2 \n\" style=\"fill:none;\"/>\n   </g>\n  </g>\n </g>\n <defs>\n  <clipPath id=\"pb60cd61975\">\n   <rect height=\"217.44\" width=\"334.8\" x=\"28.1\" y=\"7.2\"/>\n  </clipPath>\n </defs>\n</svg>\n"
          },
          "metadata": {
            "tags": [],
            "needs_background": "light"
          }
        },
        {
          "output_type": "display_data",
          "data": {
            "text/plain": [
              "<Figure size 432x288 with 1 Axes>"
            ],
            "image/svg+xml": "<?xml version=\"1.0\" encoding=\"utf-8\" standalone=\"no\"?>\n<!DOCTYPE svg PUBLIC \"-//W3C//DTD SVG 1.1//EN\"\n  \"http://www.w3.org/Graphics/SVG/1.1/DTD/svg11.dtd\">\n<!-- Created with matplotlib (https://matplotlib.org/) -->\n<svg height=\"248.161875pt\" version=\"1.1\" viewBox=\"0 0 370.1 248.161875\" width=\"370.1pt\" xmlns=\"http://www.w3.org/2000/svg\" xmlns:xlink=\"http://www.w3.org/1999/xlink\">\n <defs>\n  <style type=\"text/css\">\n*{stroke-linecap:butt;stroke-linejoin:round;}\n  </style>\n </defs>\n <g id=\"figure_1\">\n  <g id=\"patch_1\">\n   <path d=\"M 0 248.161875 \nL 370.1 248.161875 \nL 370.1 0 \nL 0 0 \nz\n\" style=\"fill:none;\"/>\n  </g>\n  <g id=\"axes_1\">\n   <g id=\"patch_2\">\n    <path d=\"M 28.1 224.64 \nL 362.9 224.64 \nL 362.9 7.2 \nL 28.1 7.2 \nz\n\" style=\"fill:#eaeaf2;\"/>\n   </g>\n   <g id=\"matplotlib.axis_1\">\n    <g id=\"xtick_1\">\n     <g id=\"line2d_1\">\n      <path clip-path=\"url(#p1d3f7e1bbc)\" d=\"M 43.318182 224.64 \nL 43.318182 7.2 \n\" style=\"fill:none;stroke:#ffffff;stroke-linecap:round;\"/>\n     </g>\n     <g id=\"line2d_2\"/>\n     <g id=\"text_1\">\n      <!-- 0 -->\n      <defs>\n       <path d=\"M 51.703125 34.421875 \nQ 51.703125 24.515625 49.828125 17.75 \nQ 47.953125 10.984375 44.703125 6.8125 \nQ 41.453125 2.640625 37.0625 0.828125 \nQ 32.671875 -0.984375 27.6875 -0.984375 \nQ 22.65625 -0.984375 18.3125 0.828125 \nQ 13.96875 2.640625 10.765625 6.78125 \nQ 7.5625 10.9375 5.734375 17.703125 \nQ 3.90625 24.46875 3.90625 34.421875 \nQ 3.90625 44.828125 5.734375 51.640625 \nQ 7.5625 58.453125 10.78125 62.5 \nQ 14.015625 66.546875 18.40625 68.1875 \nQ 22.796875 69.828125 27.984375 69.828125 \nQ 32.90625 69.828125 37.21875 68.1875 \nQ 41.546875 66.546875 44.765625 62.5 \nQ 48 58.453125 49.84375 51.640625 \nQ 51.703125 44.828125 51.703125 34.421875 \nz\nM 42.78125 34.421875 \nQ 42.78125 42.625 41.796875 48.0625 \nQ 40.828125 53.515625 38.921875 56.765625 \nQ 37.015625 60.015625 34.25 61.359375 \nQ 31.5 62.703125 27.984375 62.703125 \nQ 24.265625 62.703125 21.4375 61.328125 \nQ 18.609375 59.96875 16.671875 56.71875 \nQ 14.75 53.46875 13.765625 48.015625 \nQ 12.796875 42.578125 12.796875 34.421875 \nQ 12.796875 26.515625 13.796875 21.09375 \nQ 14.796875 15.671875 16.71875 12.375 \nQ 18.65625 9.078125 21.4375 7.640625 \nQ 24.21875 6.203125 27.78125 6.203125 \nQ 31.25 6.203125 34.03125 7.640625 \nQ 36.8125 9.078125 38.734375 12.375 \nQ 40.671875 15.671875 41.71875 21.09375 \nQ 42.78125 26.515625 42.78125 34.421875 \nz\n\" id=\"LiberationSans-48\"/>\n      </defs>\n      <g style=\"fill:#262626;\" transform=\"translate(40.537713 238.886875)scale(0.1 -0.1)\">\n       <use xlink:href=\"#LiberationSans-48\"/>\n      </g>\n     </g>\n    </g>\n    <g id=\"xtick_2\">\n     <g id=\"line2d_3\">\n      <path clip-path=\"url(#p1d3f7e1bbc)\" d=\"M 105.43321 224.64 \nL 105.43321 7.2 \n\" style=\"fill:none;stroke:#ffffff;stroke-linecap:round;\"/>\n     </g>\n     <g id=\"line2d_4\"/>\n     <g id=\"text_2\">\n      <!-- 10 -->\n      <defs>\n       <path d=\"M 7.625 0 \nL 7.625 7.46875 \nL 25.140625 7.46875 \nL 25.140625 60.40625 \nL 9.625 49.3125 \nL 9.625 57.625 \nL 25.875 68.796875 \nL 33.984375 68.796875 \nL 33.984375 7.46875 \nL 50.734375 7.46875 \nL 50.734375 0 \nz\n\" id=\"LiberationSans-49\"/>\n      </defs>\n      <g style=\"fill:#262626;\" transform=\"translate(99.872272 238.886875)scale(0.1 -0.1)\">\n       <use xlink:href=\"#LiberationSans-49\"/>\n       <use x=\"55.615234\" xlink:href=\"#LiberationSans-48\"/>\n      </g>\n     </g>\n    </g>\n    <g id=\"xtick_3\">\n     <g id=\"line2d_5\">\n      <path clip-path=\"url(#p1d3f7e1bbc)\" d=\"M 167.548237 224.64 \nL 167.548237 7.2 \n\" style=\"fill:none;stroke:#ffffff;stroke-linecap:round;\"/>\n     </g>\n     <g id=\"line2d_6\"/>\n     <g id=\"text_3\">\n      <!-- 20 -->\n      <defs>\n       <path d=\"M 5.03125 0 \nL 5.03125 6.203125 \nQ 7.515625 11.921875 11.109375 16.28125 \nQ 14.703125 20.65625 18.65625 24.1875 \nQ 22.609375 27.734375 26.484375 30.765625 \nQ 30.375 33.796875 33.5 36.8125 \nQ 36.625 39.84375 38.546875 43.15625 \nQ 40.484375 46.484375 40.484375 50.6875 \nQ 40.484375 53.609375 39.59375 55.828125 \nQ 38.71875 58.0625 37.0625 59.5625 \nQ 35.40625 61.078125 33.078125 61.828125 \nQ 30.765625 62.59375 27.9375 62.59375 \nQ 25.296875 62.59375 22.96875 61.859375 \nQ 20.65625 61.140625 18.84375 59.671875 \nQ 17.046875 58.203125 15.890625 56.03125 \nQ 14.75 53.859375 14.40625 50.984375 \nL 5.421875 51.8125 \nQ 5.859375 55.515625 7.46875 58.78125 \nQ 9.078125 62.0625 11.90625 64.53125 \nQ 14.75 67 18.71875 68.40625 \nQ 22.703125 69.828125 27.9375 69.828125 \nQ 33.0625 69.828125 37.0625 68.609375 \nQ 41.0625 67.390625 43.8125 64.984375 \nQ 46.578125 62.59375 48.046875 59.078125 \nQ 49.515625 55.5625 49.515625 50.984375 \nQ 49.515625 47.515625 48.265625 44.390625 \nQ 47.015625 41.265625 44.9375 38.421875 \nQ 42.875 35.59375 40.140625 32.953125 \nQ 37.40625 30.328125 34.421875 27.8125 \nQ 31.453125 25.296875 28.421875 22.828125 \nQ 25.390625 20.359375 22.71875 17.859375 \nQ 20.0625 15.375 17.96875 12.8125 \nQ 15.875 10.25 14.703125 7.46875 \nL 50.59375 7.46875 \nL 50.59375 0 \nz\n\" id=\"LiberationSans-50\"/>\n      </defs>\n      <g style=\"fill:#262626;\" transform=\"translate(161.9873 238.886875)scale(0.1 -0.1)\">\n       <use xlink:href=\"#LiberationSans-50\"/>\n       <use x=\"55.615234\" xlink:href=\"#LiberationSans-48\"/>\n      </g>\n     </g>\n    </g>\n    <g id=\"xtick_4\">\n     <g id=\"line2d_7\">\n      <path clip-path=\"url(#p1d3f7e1bbc)\" d=\"M 229.663265 224.64 \nL 229.663265 7.2 \n\" style=\"fill:none;stroke:#ffffff;stroke-linecap:round;\"/>\n     </g>\n     <g id=\"line2d_8\"/>\n     <g id=\"text_4\">\n      <!-- 30 -->\n      <defs>\n       <path d=\"M 51.21875 19 \nQ 51.21875 14.265625 49.671875 10.546875 \nQ 48.140625 6.84375 45.1875 4.265625 \nQ 42.234375 1.703125 37.859375 0.359375 \nQ 33.5 -0.984375 27.875 -0.984375 \nQ 21.484375 -0.984375 17.109375 0.609375 \nQ 12.75 2.203125 9.90625 4.8125 \nQ 7.078125 7.421875 5.65625 10.765625 \nQ 4.25 14.109375 3.8125 17.671875 \nL 12.890625 18.5 \nQ 13.28125 15.765625 14.328125 13.515625 \nQ 15.375 11.28125 17.1875 9.671875 \nQ 19 8.0625 21.625 7.171875 \nQ 24.265625 6.296875 27.875 6.296875 \nQ 34.515625 6.296875 38.296875 9.5625 \nQ 42.09375 12.84375 42.09375 19.28125 \nQ 42.09375 23.09375 40.40625 25.40625 \nQ 38.71875 27.734375 36.203125 29.03125 \nQ 33.6875 30.328125 30.734375 30.765625 \nQ 27.78125 31.203125 25.296875 31.203125 \nL 20.3125 31.203125 \nL 20.3125 38.8125 \nL 25.09375 38.8125 \nQ 27.59375 38.8125 30.265625 39.328125 \nQ 32.953125 39.84375 35.171875 41.1875 \nQ 37.40625 42.53125 38.84375 44.828125 \nQ 40.28125 47.125 40.28125 50.6875 \nQ 40.28125 56.203125 37.03125 59.390625 \nQ 33.796875 62.59375 27.390625 62.59375 \nQ 21.578125 62.59375 17.984375 59.609375 \nQ 14.40625 56.640625 13.8125 51.21875 \nL 4.984375 51.90625 \nQ 5.515625 56.453125 7.46875 59.8125 \nQ 9.421875 63.1875 12.421875 65.40625 \nQ 15.4375 67.625 19.28125 68.71875 \nQ 23.140625 69.828125 27.484375 69.828125 \nQ 33.25 69.828125 37.390625 68.375 \nQ 41.546875 66.9375 44.1875 64.46875 \nQ 46.828125 62.015625 48.0625 58.6875 \nQ 49.3125 55.375 49.3125 51.609375 \nQ 49.3125 48.578125 48.484375 45.9375 \nQ 47.65625 43.3125 45.890625 41.203125 \nQ 44.140625 39.109375 41.421875 37.59375 \nQ 38.71875 36.078125 34.90625 35.296875 \nL 34.90625 35.109375 \nQ 39.0625 34.671875 42.140625 33.21875 \nQ 45.21875 31.78125 47.21875 29.625 \nQ 49.21875 27.484375 50.21875 24.75 \nQ 51.21875 22.015625 51.21875 19 \nz\n\" id=\"LiberationSans-51\"/>\n      </defs>\n      <g style=\"fill:#262626;\" transform=\"translate(224.102328 238.886875)scale(0.1 -0.1)\">\n       <use xlink:href=\"#LiberationSans-51\"/>\n       <use x=\"55.615234\" xlink:href=\"#LiberationSans-48\"/>\n      </g>\n     </g>\n    </g>\n    <g id=\"xtick_5\">\n     <g id=\"line2d_9\">\n      <path clip-path=\"url(#p1d3f7e1bbc)\" d=\"M 291.778293 224.64 \nL 291.778293 7.2 \n\" style=\"fill:none;stroke:#ffffff;stroke-linecap:round;\"/>\n     </g>\n     <g id=\"line2d_10\"/>\n     <g id=\"text_5\">\n      <!-- 40 -->\n      <defs>\n       <path d=\"M 43.015625 15.578125 \nL 43.015625 0 \nL 34.71875 0 \nL 34.71875 15.578125 \nL 2.296875 15.578125 \nL 2.296875 22.40625 \nL 33.796875 68.796875 \nL 43.015625 68.796875 \nL 43.015625 22.515625 \nL 52.6875 22.515625 \nL 52.6875 15.578125 \nz\nM 34.71875 58.890625 \nQ 34.625 58.640625 34.234375 57.9375 \nQ 33.84375 57.234375 33.34375 56.34375 \nQ 32.859375 55.46875 32.34375 54.5625 \nQ 31.84375 53.65625 31.453125 53.078125 \nL 13.8125 27.09375 \nQ 13.578125 26.703125 13.109375 26.0625 \nQ 12.640625 25.4375 12.15625 24.78125 \nQ 11.671875 24.125 11.171875 23.484375 \nQ 10.6875 22.859375 10.40625 22.515625 \nL 34.71875 22.515625 \nz\n\" id=\"LiberationSans-52\"/>\n      </defs>\n      <g style=\"fill:#262626;\" transform=\"translate(286.217356 238.886875)scale(0.1 -0.1)\">\n       <use xlink:href=\"#LiberationSans-52\"/>\n       <use x=\"55.615234\" xlink:href=\"#LiberationSans-48\"/>\n      </g>\n     </g>\n    </g>\n    <g id=\"xtick_6\">\n     <g id=\"line2d_11\">\n      <path clip-path=\"url(#p1d3f7e1bbc)\" d=\"M 353.893321 224.64 \nL 353.893321 7.2 \n\" style=\"fill:none;stroke:#ffffff;stroke-linecap:round;\"/>\n     </g>\n     <g id=\"line2d_12\"/>\n     <g id=\"text_6\">\n      <!-- 50 -->\n      <defs>\n       <path d=\"M 51.421875 22.40625 \nQ 51.421875 17.234375 49.859375 12.9375 \nQ 48.296875 8.640625 45.21875 5.53125 \nQ 42.140625 2.4375 37.578125 0.71875 \nQ 33.015625 -0.984375 27 -0.984375 \nQ 21.578125 -0.984375 17.546875 0.28125 \nQ 13.53125 1.5625 10.734375 3.78125 \nQ 7.953125 6 6.3125 8.984375 \nQ 4.6875 11.96875 4 15.375 \nL 12.890625 16.40625 \nQ 13.421875 14.453125 14.390625 12.625 \nQ 15.375 10.796875 17.0625 9.34375 \nQ 18.75 7.90625 21.21875 7.046875 \nQ 23.6875 6.203125 27.203125 6.203125 \nQ 30.609375 6.203125 33.390625 7.25 \nQ 36.1875 8.296875 38.15625 10.34375 \nQ 40.140625 12.40625 41.203125 15.375 \nQ 42.28125 18.359375 42.28125 22.21875 \nQ 42.28125 25.390625 41.25 28.046875 \nQ 40.234375 30.71875 38.328125 32.640625 \nQ 36.421875 34.578125 33.65625 35.640625 \nQ 30.90625 36.71875 27.390625 36.71875 \nQ 25.203125 36.71875 23.34375 36.328125 \nQ 21.484375 35.9375 19.890625 35.25 \nQ 18.3125 34.578125 17.015625 33.671875 \nQ 15.71875 32.765625 14.59375 31.78125 \nL 6 31.78125 \nL 8.296875 68.796875 \nL 47.40625 68.796875 \nL 47.40625 61.328125 \nL 16.3125 61.328125 \nL 14.984375 39.5 \nQ 17.328125 41.3125 20.84375 42.59375 \nQ 24.359375 43.890625 29.203125 43.890625 \nQ 34.328125 43.890625 38.421875 42.328125 \nQ 42.53125 40.765625 45.40625 37.90625 \nQ 48.296875 35.0625 49.859375 31.109375 \nQ 51.421875 27.15625 51.421875 22.40625 \nz\n\" id=\"LiberationSans-53\"/>\n      </defs>\n      <g style=\"fill:#262626;\" transform=\"translate(348.332383 238.886875)scale(0.1 -0.1)\">\n       <use xlink:href=\"#LiberationSans-53\"/>\n       <use x=\"55.615234\" xlink:href=\"#LiberationSans-48\"/>\n      </g>\n     </g>\n    </g>\n   </g>\n   <g id=\"matplotlib.axis_2\">\n    <g id=\"ytick_1\">\n     <g id=\"line2d_13\">\n      <path clip-path=\"url(#p1d3f7e1bbc)\" d=\"M 28.1 216.273159 \nL 362.9 216.273159 \n\" style=\"fill:none;stroke:#ffffff;stroke-linecap:round;\"/>\n     </g>\n     <g id=\"line2d_14\"/>\n     <g id=\"text_7\">\n      <!-- 0.5 -->\n      <defs>\n       <path d=\"M 9.125 0 \nL 9.125 10.6875 \nL 18.65625 10.6875 \nL 18.65625 0 \nz\n\" id=\"LiberationSans-46\"/>\n      </defs>\n      <g style=\"fill:#262626;\" transform=\"translate(7.2 219.896597)scale(0.1 -0.1)\">\n       <use xlink:href=\"#LiberationSans-48\"/>\n       <use x=\"55.615234\" xlink:href=\"#LiberationSans-46\"/>\n       <use x=\"83.398438\" xlink:href=\"#LiberationSans-53\"/>\n      </g>\n     </g>\n    </g>\n    <g id=\"ytick_2\">\n     <g id=\"line2d_15\">\n      <path clip-path=\"url(#p1d3f7e1bbc)\" d=\"M 28.1 173.749353 \nL 362.9 173.749353 \n\" style=\"fill:none;stroke:#ffffff;stroke-linecap:round;\"/>\n     </g>\n     <g id=\"line2d_16\"/>\n     <g id=\"text_8\">\n      <!-- 0.6 -->\n      <defs>\n       <path d=\"M 51.21875 22.515625 \nQ 51.21875 17.328125 49.78125 13 \nQ 48.34375 8.6875 45.53125 5.578125 \nQ 42.71875 2.484375 38.5625 0.75 \nQ 34.421875 -0.984375 29 -0.984375 \nQ 23 -0.984375 18.5 1.3125 \nQ 14.015625 3.609375 11.03125 7.921875 \nQ 8.0625 12.25 6.5625 18.53125 \nQ 5.078125 24.8125 5.078125 32.8125 \nQ 5.078125 42 6.765625 48.921875 \nQ 8.453125 55.859375 11.625 60.5 \nQ 14.796875 65.140625 19.359375 67.484375 \nQ 23.921875 69.828125 29.6875 69.828125 \nQ 33.203125 69.828125 36.28125 69.09375 \nQ 39.359375 68.359375 41.875 66.71875 \nQ 44.390625 65.09375 46.28125 62.40625 \nQ 48.1875 59.71875 49.3125 55.8125 \nL 40.921875 54.296875 \nQ 39.546875 58.734375 36.546875 60.71875 \nQ 33.546875 62.703125 29.59375 62.703125 \nQ 25.984375 62.703125 23.046875 60.984375 \nQ 20.125 59.28125 18.0625 55.875 \nQ 16.015625 52.484375 14.90625 47.359375 \nQ 13.8125 42.234375 13.8125 35.40625 \nQ 16.21875 39.84375 20.5625 42.15625 \nQ 24.90625 44.484375 30.515625 44.484375 \nQ 35.203125 44.484375 39.015625 42.96875 \nQ 42.828125 41.453125 45.53125 38.59375 \nQ 48.25 35.75 49.734375 31.671875 \nQ 51.21875 27.59375 51.21875 22.515625 \nz\nM 42.28125 22.125 \nQ 42.28125 25.6875 41.40625 28.5625 \nQ 40.53125 31.453125 38.765625 33.46875 \nQ 37.015625 35.5 34.421875 36.59375 \nQ 31.84375 37.703125 28.421875 37.703125 \nQ 26.03125 37.703125 23.578125 36.984375 \nQ 21.140625 36.28125 19.15625 34.6875 \nQ 17.1875 33.109375 15.9375 30.515625 \nQ 14.703125 27.9375 14.703125 24.21875 \nQ 14.703125 20.40625 15.671875 17.109375 \nQ 16.65625 13.8125 18.484375 11.375 \nQ 20.3125 8.9375 22.890625 7.515625 \nQ 25.484375 6.109375 28.71875 6.109375 \nQ 31.890625 6.109375 34.40625 7.203125 \nQ 36.921875 8.296875 38.671875 10.375 \nQ 40.4375 12.453125 41.359375 15.421875 \nQ 42.28125 18.40625 42.28125 22.125 \nz\n\" id=\"LiberationSans-54\"/>\n      </defs>\n      <g style=\"fill:#262626;\" transform=\"translate(7.2 177.37279)scale(0.1 -0.1)\">\n       <use xlink:href=\"#LiberationSans-48\"/>\n       <use x=\"55.615234\" xlink:href=\"#LiberationSans-46\"/>\n       <use x=\"83.398438\" xlink:href=\"#LiberationSans-54\"/>\n      </g>\n     </g>\n    </g>\n    <g id=\"ytick_3\">\n     <g id=\"line2d_17\">\n      <path clip-path=\"url(#p1d3f7e1bbc)\" d=\"M 28.1 131.225546 \nL 362.9 131.225546 \n\" style=\"fill:none;stroke:#ffffff;stroke-linecap:round;\"/>\n     </g>\n     <g id=\"line2d_18\"/>\n     <g id=\"text_9\">\n      <!-- 0.7 -->\n      <defs>\n       <path d=\"M 50.59375 61.671875 \nQ 45.40625 53.765625 41.0625 46.453125 \nQ 36.71875 39.15625 33.59375 31.75 \nQ 30.46875 24.359375 28.734375 16.578125 \nQ 27 8.796875 27 0 \nL 17.828125 0 \nQ 17.828125 8.25 19.78125 16.1875 \nQ 21.734375 24.125 25.046875 31.765625 \nQ 28.375 39.40625 32.765625 46.78125 \nQ 37.15625 54.15625 42.09375 61.328125 \nL 5.125 61.328125 \nL 5.125 68.796875 \nL 50.59375 68.796875 \nz\n\" id=\"LiberationSans-55\"/>\n      </defs>\n      <g style=\"fill:#262626;\" transform=\"translate(7.2 134.848984)scale(0.1 -0.1)\">\n       <use xlink:href=\"#LiberationSans-48\"/>\n       <use x=\"55.615234\" xlink:href=\"#LiberationSans-46\"/>\n       <use x=\"83.398438\" xlink:href=\"#LiberationSans-55\"/>\n      </g>\n     </g>\n    </g>\n    <g id=\"ytick_4\">\n     <g id=\"line2d_19\">\n      <path clip-path=\"url(#p1d3f7e1bbc)\" d=\"M 28.1 88.70174 \nL 362.9 88.70174 \n\" style=\"fill:none;stroke:#ffffff;stroke-linecap:round;\"/>\n     </g>\n     <g id=\"line2d_20\"/>\n     <g id=\"text_10\">\n      <!-- 0.8 -->\n      <defs>\n       <path d=\"M 51.265625 19.1875 \nQ 51.265625 14.796875 49.875 11.109375 \nQ 48.484375 7.421875 45.625 4.734375 \nQ 42.78125 2.046875 38.328125 0.53125 \nQ 33.890625 -0.984375 27.828125 -0.984375 \nQ 21.78125 -0.984375 17.359375 0.53125 \nQ 12.9375 2.046875 10.03125 4.703125 \nQ 7.125 7.375 5.734375 11.0625 \nQ 4.34375 14.75 4.34375 19.09375 \nQ 4.34375 22.859375 5.484375 25.78125 \nQ 6.640625 28.71875 8.5625 30.828125 \nQ 10.5 32.953125 12.96875 34.25 \nQ 15.4375 35.546875 18.0625 35.984375 \nL 18.0625 36.1875 \nQ 15.1875 36.859375 12.90625 38.375 \nQ 10.640625 39.890625 9.09375 42.015625 \nQ 7.5625 44.140625 6.75 46.71875 \nQ 5.953125 49.3125 5.953125 52.203125 \nQ 5.953125 55.8125 7.34375 59 \nQ 8.734375 62.203125 11.46875 64.625 \nQ 14.203125 67.046875 18.25 68.4375 \nQ 22.3125 69.828125 27.640625 69.828125 \nQ 33.25 69.828125 37.375 68.40625 \nQ 41.5 67 44.203125 64.578125 \nQ 46.921875 62.15625 48.234375 58.9375 \nQ 49.5625 55.71875 49.5625 52.09375 \nQ 49.5625 49.265625 48.75 46.671875 \nQ 47.953125 44.09375 46.40625 41.96875 \nQ 44.875 39.84375 42.59375 38.34375 \nQ 40.328125 36.859375 37.359375 36.28125 \nL 37.359375 36.078125 \nQ 40.328125 35.59375 42.859375 34.296875 \nQ 45.40625 33.015625 47.265625 30.890625 \nQ 49.125 28.765625 50.1875 25.828125 \nQ 51.265625 22.90625 51.265625 19.1875 \nz\nM 40.4375 51.609375 \nQ 40.4375 54.203125 39.765625 56.34375 \nQ 39.109375 58.5 37.59375 60.03125 \nQ 36.078125 61.578125 33.640625 62.421875 \nQ 31.203125 63.28125 27.640625 63.28125 \nQ 24.171875 63.28125 21.78125 62.421875 \nQ 19.390625 61.578125 17.84375 60.03125 \nQ 16.3125 58.5 15.625 56.34375 \nQ 14.9375 54.203125 14.9375 51.609375 \nQ 14.9375 49.5625 15.46875 47.40625 \nQ 16.015625 45.265625 17.421875 43.5 \nQ 18.84375 41.75 21.328125 40.625 \nQ 23.828125 39.5 27.734375 39.5 \nQ 31.890625 39.5 34.40625 40.625 \nQ 36.921875 41.75 38.25 43.5 \nQ 39.59375 45.265625 40.015625 47.40625 \nQ 40.4375 49.5625 40.4375 51.609375 \nz\nM 42.140625 20.015625 \nQ 42.140625 22.515625 41.453125 24.828125 \nQ 40.765625 27.15625 39.109375 28.9375 \nQ 37.453125 30.71875 34.640625 31.8125 \nQ 31.84375 32.90625 27.640625 32.90625 \nQ 23.78125 32.90625 21.0625 31.8125 \nQ 18.359375 30.71875 16.671875 28.90625 \nQ 14.984375 27.09375 14.203125 24.71875 \nQ 13.421875 22.359375 13.421875 19.828125 \nQ 13.421875 16.65625 14.203125 14.03125 \nQ 14.984375 11.421875 16.6875 9.546875 \nQ 18.40625 7.671875 21.1875 6.640625 \nQ 23.96875 5.609375 27.9375 5.609375 \nQ 31.9375 5.609375 34.671875 6.640625 \nQ 37.40625 7.671875 39.0625 9.546875 \nQ 40.71875 11.421875 41.421875 14.078125 \nQ 42.140625 16.75 42.140625 20.015625 \nz\n\" id=\"LiberationSans-56\"/>\n      </defs>\n      <g style=\"fill:#262626;\" transform=\"translate(7.2 92.325177)scale(0.1 -0.1)\">\n       <use xlink:href=\"#LiberationSans-48\"/>\n       <use x=\"55.615234\" xlink:href=\"#LiberationSans-46\"/>\n       <use x=\"83.398438\" xlink:href=\"#LiberationSans-56\"/>\n      </g>\n     </g>\n    </g>\n    <g id=\"ytick_5\">\n     <g id=\"line2d_21\">\n      <path clip-path=\"url(#p1d3f7e1bbc)\" d=\"M 28.1 46.177933 \nL 362.9 46.177933 \n\" style=\"fill:none;stroke:#ffffff;stroke-linecap:round;\"/>\n     </g>\n     <g id=\"line2d_22\"/>\n     <g id=\"text_11\">\n      <!-- 0.9 -->\n      <defs>\n       <path d=\"M 50.875 35.796875 \nQ 50.875 26.609375 49.140625 19.703125 \nQ 47.40625 12.796875 44.1875 8.203125 \nQ 40.96875 3.609375 36.34375 1.3125 \nQ 31.734375 -0.984375 25.984375 -0.984375 \nQ 22.015625 -0.984375 18.84375 -0.171875 \nQ 15.671875 0.640625 13.171875 2.34375 \nQ 10.6875 4.046875 8.921875 6.78125 \nQ 7.171875 9.515625 6.109375 13.375 \nL 14.5 14.703125 \nQ 15.875 10.25 18.78125 8.171875 \nQ 21.6875 6.109375 26.125 6.109375 \nQ 29.6875 6.109375 32.640625 7.78125 \nQ 35.59375 9.46875 37.671875 12.84375 \nQ 39.75 16.21875 40.921875 21.296875 \nQ 42.09375 26.375 42.1875 33.203125 \nQ 41.15625 30.90625 39.375 29.09375 \nQ 37.59375 27.296875 35.328125 26.046875 \nQ 33.0625 24.8125 30.421875 24.140625 \nQ 27.78125 23.484375 25.09375 23.484375 \nQ 20.40625 23.484375 16.625 25.171875 \nQ 12.84375 26.859375 10.203125 29.875 \nQ 7.5625 32.90625 6.125 37.171875 \nQ 4.6875 41.453125 4.6875 46.6875 \nQ 4.6875 52 6.21875 56.296875 \nQ 7.765625 60.59375 10.6875 63.59375 \nQ 13.625 66.609375 17.890625 68.21875 \nQ 22.171875 69.828125 27.59375 69.828125 \nQ 39.0625 69.828125 44.96875 61.328125 \nQ 50.875 52.828125 50.875 35.796875 \nz\nM 41.3125 44.28125 \nQ 41.3125 48.09375 40.40625 51.453125 \nQ 39.5 54.828125 37.71875 57.3125 \nQ 35.9375 59.8125 33.328125 61.25 \nQ 30.71875 62.703125 27.296875 62.703125 \nQ 24.125 62.703125 21.578125 61.578125 \nQ 19.046875 60.453125 17.28125 58.375 \nQ 15.53125 56.296875 14.578125 53.3125 \nQ 13.625 50.34375 13.625 46.6875 \nQ 13.625 43.21875 14.46875 40.234375 \nQ 15.328125 37.25 17.03125 35.078125 \nQ 18.75 32.90625 21.28125 31.65625 \nQ 23.828125 30.421875 27.203125 30.421875 \nQ 29.640625 30.421875 32.15625 31.25 \nQ 34.671875 32.078125 36.6875 33.78125 \nQ 38.71875 35.5 40.015625 38.109375 \nQ 41.3125 40.71875 41.3125 44.28125 \nz\n\" id=\"LiberationSans-57\"/>\n      </defs>\n      <g style=\"fill:#262626;\" transform=\"translate(7.2 49.801371)scale(0.1 -0.1)\">\n       <use xlink:href=\"#LiberationSans-48\"/>\n       <use x=\"55.615234\" xlink:href=\"#LiberationSans-46\"/>\n       <use x=\"83.398438\" xlink:href=\"#LiberationSans-57\"/>\n      </g>\n     </g>\n    </g>\n   </g>\n   <g id=\"line2d_23\">\n    <path clip-path=\"url(#p1d3f7e1bbc)\" d=\"M 43.318182 214.68928 \nL 49.529685 209.112241 \nL 55.741187 204.605994 \nL 61.95269 189.302599 \nL 68.164193 170.028352 \nL 74.375696 149.951012 \nL 80.587199 128.356717 \nL 86.798701 110.06403 \nL 93.010204 98.954568 \nL 99.221707 88.826665 \nL 105.43321 79.948019 \nL 111.644712 74.86176 \nL 117.856215 69.552419 \nL 124.067718 66.51851 \nL 130.279221 63.306135 \nL 136.490724 58.621422 \nL 142.702226 56.078293 \nL 148.913729 54.025942 \nL 155.125232 52.732069 \nL 161.336735 50.947417 \nL 167.548237 46.441169 \nL 173.75974 44.745749 \nL 179.971243 42.158003 \nL 186.182746 44.210354 \nL 192.394249 41.533375 \nL 198.605751 38.677931 \nL 204.817254 36.670197 \nL 211.028757 36.134801 \nL 217.24026 34.082451 \nL 223.451763 31.851635 \nL 229.663265 31.31624 \nL 235.874768 31.093158 \nL 242.086271 28.193098 \nL 248.297774 29.308506 \nL 254.509276 28.639261 \nL 260.720779 27.300772 \nL 266.932282 26.096131 \nL 273.143785 26.006899 \nL 279.355288 23.508385 \nL 285.56679 23.151455 \nL 291.778293 23.731467 \nL 297.989796 23.151455 \nL 304.201299 21.768349 \nL 310.412801 21.456035 \nL 316.624304 21.054488 \nL 322.835807 20.251394 \nL 329.04731 19.314452 \nL 335.258813 19.002138 \nL 341.470315 18.154428 \nL 347.681818 17.083636 \n\" style=\"fill:none;stroke:#4c72b0;stroke-linecap:round;stroke-width:1.75;\"/>\n   </g>\n   <g id=\"line2d_24\">\n    <path clip-path=\"url(#p1d3f7e1bbc)\" d=\"M 43.318182 194.9488 \nL 49.529685 214.756364 \nL 55.741187 203.335786 \nL 61.95269 124.640869 \nL 68.164193 168.717161 \nL 74.375696 169.966286 \nL 80.587199 148.374257 \nL 86.798701 128.745139 \nL 93.010204 104.476412 \nL 99.221707 104.654859 \nL 105.43321 90.557583 \nL 111.644712 88.237779 \nL 117.856215 93.591174 \nL 124.067718 88.416225 \nL 130.279221 88.059332 \nL 136.490724 91.092923 \nL 142.702226 79.315452 \nL 148.913729 79.493899 \nL 155.125232 88.237779 \nL 161.336735 77.88788 \nL 167.548237 97.873891 \nL 173.75974 95.554086 \nL 179.971243 83.062829 \nL 186.182746 75.568075 \nL 192.394249 73.962057 \nL 198.605751 77.352541 \nL 204.817254 75.032736 \nL 211.028757 78.42322 \nL 217.24026 77.88788 \nL 223.451763 77.174094 \nL 229.663265 73.248271 \nL 235.874768 75.568075 \nL 242.086271 72.356038 \nL 248.297774 71.820698 \nL 254.509276 75.211182 \nL 260.720779 72.356038 \nL 266.932282 72.356038 \nL 273.143785 74.140503 \nL 279.355288 76.281862 \nL 285.56679 72.891378 \nL 291.778293 71.820698 \nL 297.989796 72.356038 \nL 304.201299 73.962057 \nL 310.412801 79.672346 \nL 316.624304 81.278364 \nL 322.835807 73.069824 \nL 329.04731 72.177592 \nL 335.258813 75.389629 \nL 341.470315 73.069824 \nL 347.681818 74.497396 \n\" style=\"fill:none;stroke:#55a868;stroke-linecap:round;stroke-width:1.75;\"/>\n   </g>\n   <g id=\"patch_3\">\n    <path d=\"M 28.1 224.64 \nL 28.1 7.2 \n\" style=\"fill:none;\"/>\n   </g>\n   <g id=\"patch_4\">\n    <path d=\"M 362.9 224.64 \nL 362.9 7.2 \n\" style=\"fill:none;\"/>\n   </g>\n   <g id=\"patch_5\">\n    <path d=\"M 28.1 224.64 \nL 362.9 224.64 \n\" style=\"fill:none;\"/>\n   </g>\n   <g id=\"patch_6\">\n    <path d=\"M 28.1 7.2 \nL 362.9 7.2 \n\" style=\"fill:none;\"/>\n   </g>\n  </g>\n </g>\n <defs>\n  <clipPath id=\"p1d3f7e1bbc\">\n   <rect height=\"217.44\" width=\"334.8\" x=\"28.1\" y=\"7.2\"/>\n  </clipPath>\n </defs>\n</svg>\n"
          },
          "metadata": {
            "tags": [],
            "needs_background": "light"
          }
        }
      ]
    },
    {
      "cell_type": "code",
      "metadata": {
        "colab": {
          "base_uri": "https://localhost:8080/"
        },
        "id": "owAtTEg8lHCS",
        "outputId": "024378a1-31b5-45a9-b16a-d3684d7cb2ae"
      },
      "source": [
        "# Again, just as a sanity check, let's apply the model to some words.\n",
        "\n",
        "clf.predict(['I found this material very underwhelming','I dislike this book very much'])"
      ],
      "execution_count": null,
      "outputs": [
        {
          "output_type": "execute_result",
          "data": {
            "text/plain": [
              "['neg', 'neg']"
            ]
          },
          "metadata": {
            "tags": []
          },
          "execution_count": 28
        }
      ]
    }
  ]
}